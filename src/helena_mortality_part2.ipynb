{
 "cells": [
  {
   "cell_type": "markdown",
   "metadata": {},
   "source": [
    "In this notebook we make predictions for all of the crowns which have treatment and geopmorphon information attached.  We will then attach the predictions to the crown df and save to `/TreeMortality/data/helena/predictions.parquet`."
   ]
  },
  {
   "cell_type": "code",
   "execution_count": 17,
   "metadata": {},
   "outputs": [],
   "source": [
    "import json\n",
    "import os\n",
    "import pickle\n",
    "from pathlib import Path\n",
    "from joblib import Parallel, delayed\n",
    "from statistics import mode\n",
    "\n",
    "import geopandas as gpd\n",
    "import matplotlib.pyplot as plt\n",
    "import numpy as np\n",
    "import optuna\n",
    "import pandas as pd\n",
    "import rioxarray\n",
    "\n",
    "from xrspatial import focal, slope\n",
    "import seaborn as sns\n",
    "from tqdm import tqdm\n",
    "from joblib_progress import joblib_progress\n",
    "from xrspatial.multispectral import ndvi, savi\n",
    "from sklearn.ensemble import RandomForestClassifier\n",
    "from sklearn.metrics import (confusion_matrix, ConfusionMatrixDisplay)\n",
    "from sklearn.model_selection import train_test_split, cross_val_score\n",
    "\n",
    "from sklearn.model_selection import RandomizedSearchCV as RSCV\n",
    "from sklearn.svm import SVC\n",
    "from sklearn.metrics import roc_auc_score, accuracy_score, log_loss\n"
   ]
  },
  {
   "cell_type": "code",
   "execution_count": 18,
   "metadata": {},
   "outputs": [],
   "source": [
    "# paths\n",
    "helena_path = Path.cwd().parent / 'data' / 'helena'\n",
    "feature_dir = helena_path / 'features'\n",
    "crowns_path = helena_path / 'spectral_crowns' / 'crowns.parquet'"
   ]
  },
  {
   "cell_type": "code",
   "execution_count": 19,
   "metadata": {},
   "outputs": [
    {
     "data": {
      "text/plain": [
       "[PosixPath('/home/michael/TreeMortality/data/helena/features/features_2018_1.parquet'),\n",
       " PosixPath('/home/michael/TreeMortality/data/helena/features/features_2018_2.parquet'),\n",
       " PosixPath('/home/michael/TreeMortality/data/helena/features/features_2018_4.parquet'),\n",
       " PosixPath('/home/michael/TreeMortality/data/helena/features/features_2018_17.parquet'),\n",
       " PosixPath('/home/michael/TreeMortality/data/helena/features/features_2018_10.parquet'),\n",
       " PosixPath('/home/michael/TreeMortality/data/helena/features/features_2018_13.parquet'),\n",
       " PosixPath('/home/michael/TreeMortality/data/helena/features/features_2018_8.parquet'),\n",
       " PosixPath('/home/michael/TreeMortality/data/helena/features/features_2018_16.parquet'),\n",
       " PosixPath('/home/michael/TreeMortality/data/helena/features/features_2018_3.parquet'),\n",
       " PosixPath('/home/michael/TreeMortality/data/helena/features/features_2018_21.parquet'),\n",
       " PosixPath('/home/michael/TreeMortality/data/helena/features/features_2018_18.parquet'),\n",
       " PosixPath('/home/michael/TreeMortality/data/helena/features/features_2018_23.parquet'),\n",
       " PosixPath('/home/michael/TreeMortality/data/helena/features/features_2018_24.parquet'),\n",
       " PosixPath('/home/michael/TreeMortality/data/helena/features/features_2018_14.parquet'),\n",
       " PosixPath('/home/michael/TreeMortality/data/helena/features/features_2018_6.parquet'),\n",
       " PosixPath('/home/michael/TreeMortality/data/helena/features/features_2018_11.parquet'),\n",
       " PosixPath('/home/michael/TreeMortality/data/helena/features/features_2018_25.parquet'),\n",
       " PosixPath('/home/michael/TreeMortality/data/helena/features/features_2018_7.parquet'),\n",
       " PosixPath('/home/michael/TreeMortality/data/helena/features/features_2018_12.parquet'),\n",
       " PosixPath('/home/michael/TreeMortality/data/helena/features/features_2018_5.parquet'),\n",
       " PosixPath('/home/michael/TreeMortality/data/helena/features/features_2018_22.parquet'),\n",
       " PosixPath('/home/michael/TreeMortality/data/helena/features/features_2018_9.parquet'),\n",
       " PosixPath('/home/michael/TreeMortality/data/helena/features/features_2018_19.parquet'),\n",
       " PosixPath('/home/michael/TreeMortality/data/helena/features/features_2018_15.parquet'),\n",
       " PosixPath('/home/michael/TreeMortality/data/helena/features/features_2018_20.parquet')]"
      ]
     },
     "execution_count": 19,
     "metadata": {},
     "output_type": "execute_result"
    }
   ],
   "source": [
    "# years we will be looking at\n",
    "years = [2018, 2020, 2022]\n",
    "\n",
    "# get paths for features for years\n",
    "parquets = {}\n",
    "for y in years:\n",
    "    parquets[y] = [feature_dir / p for p in os.listdir(feature_dir) if f'features_{y}_' in p]\n",
    "\n",
    "\n",
    "parquets[2018]"
   ]
  },
  {
   "cell_type": "markdown",
   "metadata": {},
   "source": [
    "We will use the model which was tuned and trained in `src/mortality_classification.ipynb`.  It was pickled."
   ]
  },
  {
   "cell_type": "code",
   "execution_count": 20,
   "metadata": {},
   "outputs": [],
   "source": [
    "# load model created in src/mortality_classification.ipynb\n",
    "pickle_path = Path.cwd() / 'RF_model.sav'\n",
    "model = pickle.load(open(pickle_path, 'rb'))"
   ]
  },
  {
   "cell_type": "markdown",
   "metadata": {},
   "source": [
    "Now we will make model predictions for the samples and create a timeseries of survival probabilities for each sample over the years for which we have NAIP data."
   ]
  },
  {
   "cell_type": "code",
   "execution_count": 45,
   "metadata": {},
   "outputs": [],
   "source": [
    "pred_list = []\n",
    "for y in years:   \n",
    "    \n",
    "    # read parquet\n",
    "    df = pd.concat(\n",
    "    pd.read_parquet(parquet_file)\n",
    "    for parquet_file in parquets[y]\n",
    "    )\n",
    "    \n",
    "    # drop duplicated rows which are result of chunked feature creation\n",
    "    df = df[~df.duplicated(subset='UniqueID')]\n",
    "    \n",
    "    # make input features, X\n",
    "    cols = list(model.feature_names_in_)\n",
    "    X = df[cols]\n",
    "    \n",
    "    # make predictions\n",
    "    pred = pd.DataFrame()\n",
    "    pred['UniqueID'] = df['UniqueID']\n",
    "    pred[f'pred_{y}'] = model.predict_proba(X)[:, 1]\n",
    "    pred = pred.set_index('UniqueID')\n",
    "    pred_list.append(pred)"
   ]
  },
  {
   "cell_type": "code",
   "execution_count": 46,
   "metadata": {},
   "outputs": [
    {
     "name": "stdout",
     "output_type": "stream",
     "text": [
      "indices match: True\n"
     ]
    },
    {
     "data": {
      "text/plain": [
       "[True, True, True]"
      ]
     },
     "execution_count": 46,
     "metadata": {},
     "output_type": "execute_result"
    }
   ],
   "source": [
    "ii = [set(d.index) for d in pred_list]\n",
    "print('indices match:', ii[0] == ii[1] == ii[2] )\n",
    "is_unique = [len(set(d.index)) == len(d.index.to_list()) for d in pred_list]\n",
    "is_unique"
   ]
  },
  {
   "cell_type": "code",
   "execution_count": 59,
   "metadata": {},
   "outputs": [
    {
     "data": {
      "text/plain": [
       "46685"
      ]
     },
     "execution_count": 59,
     "metadata": {},
     "output_type": "execute_result"
    }
   ],
   "source": [
    "# join all years into one df\n",
    "pred_df = pd.concat(pred_list, axis=1)\n",
    "len(pred_df)"
   ]
  },
  {
   "cell_type": "code",
   "execution_count": 61,
   "metadata": {},
   "outputs": [
    {
     "name": "stdout",
     "output_type": "stream",
     "text": [
      "51200  crowns.\n"
     ]
    },
    {
     "data": {
      "text/html": [
       "<div>\n",
       "<style scoped>\n",
       "    .dataframe tbody tr th:only-of-type {\n",
       "        vertical-align: middle;\n",
       "    }\n",
       "\n",
       "    .dataframe tbody tr th {\n",
       "        vertical-align: top;\n",
       "    }\n",
       "\n",
       "    .dataframe thead th {\n",
       "        text-align: right;\n",
       "    }\n",
       "</style>\n",
       "<table border=\"1\" class=\"dataframe\">\n",
       "  <thead>\n",
       "    <tr style=\"text-align: right;\">\n",
       "      <th></th>\n",
       "      <th>UniqueID</th>\n",
       "      <th>area</th>\n",
       "      <th>zq95</th>\n",
       "      <th>treatment</th>\n",
       "      <th>geomorph_100</th>\n",
       "      <th>geomorph_250</th>\n",
       "      <th>geomorph_500</th>\n",
       "      <th>geomorph_1000</th>\n",
       "      <th>geomorph_2000</th>\n",
       "      <th>geometry</th>\n",
       "      <th>pred_2018</th>\n",
       "      <th>pred_2020</th>\n",
       "      <th>pred_2022</th>\n",
       "    </tr>\n",
       "  </thead>\n",
       "  <tbody>\n",
       "    <tr>\n",
       "      <th>0</th>\n",
       "      <td>10N_483827_4524602</td>\n",
       "      <td>21.5787</td>\n",
       "      <td>25.3350</td>\n",
       "      <td>3</td>\n",
       "      <td>9</td>\n",
       "      <td>6</td>\n",
       "      <td>6</td>\n",
       "      <td>3</td>\n",
       "      <td>5</td>\n",
       "      <td>POLYGON ((483828.120 4524603.000, 483828.200 4...</td>\n",
       "      <td>0.072072</td>\n",
       "      <td>0.746866</td>\n",
       "      <td>0.198198</td>\n",
       "    </tr>\n",
       "    <tr>\n",
       "      <th>1</th>\n",
       "      <td>10N_483828_4512551</td>\n",
       "      <td>56.1730</td>\n",
       "      <td>30.9620</td>\n",
       "      <td>3</td>\n",
       "      <td>5</td>\n",
       "      <td>9</td>\n",
       "      <td>7</td>\n",
       "      <td>7</td>\n",
       "      <td>7</td>\n",
       "      <td>POLYGON ((483831.730 4512550.380, 483831.830 4...</td>\n",
       "      <td>0.804042</td>\n",
       "      <td>0.395577</td>\n",
       "      <td>0.099099</td>\n",
       "    </tr>\n",
       "    <tr>\n",
       "      <th>2</th>\n",
       "      <td>10N_483828_4514248</td>\n",
       "      <td>40.9836</td>\n",
       "      <td>10.4400</td>\n",
       "      <td>3</td>\n",
       "      <td>3</td>\n",
       "      <td>2</td>\n",
       "      <td>2</td>\n",
       "      <td>2</td>\n",
       "      <td>3</td>\n",
       "      <td>POLYGON ((483831.960 4514248.890, 483831.950 4...</td>\n",
       "      <td>0.927923</td>\n",
       "      <td>0.963029</td>\n",
       "      <td>0.873504</td>\n",
       "    </tr>\n",
       "    <tr>\n",
       "      <th>3</th>\n",
       "      <td>10N_483829_4514263</td>\n",
       "      <td>42.7120</td>\n",
       "      <td>7.7380</td>\n",
       "      <td>3</td>\n",
       "      <td>3</td>\n",
       "      <td>2</td>\n",
       "      <td>2</td>\n",
       "      <td>2</td>\n",
       "      <td>3</td>\n",
       "      <td>POLYGON ((483831.490 4514263.700, 483831.870 4...</td>\n",
       "      <td>0.799634</td>\n",
       "      <td>0.909905</td>\n",
       "      <td>0.818944</td>\n",
       "    </tr>\n",
       "    <tr>\n",
       "      <th>4</th>\n",
       "      <td>10N_483830_4510126</td>\n",
       "      <td>57.1359</td>\n",
       "      <td>8.5665</td>\n",
       "      <td>3</td>\n",
       "      <td>6</td>\n",
       "      <td>3</td>\n",
       "      <td>3</td>\n",
       "      <td>3</td>\n",
       "      <td>6</td>\n",
       "      <td>POLYGON ((483834.480 4510126.440, 483834.470 4...</td>\n",
       "      <td>0.745946</td>\n",
       "      <td>0.936843</td>\n",
       "      <td>0.162162</td>\n",
       "    </tr>\n",
       "  </tbody>\n",
       "</table>\n",
       "</div>"
      ],
      "text/plain": [
       "             UniqueID     area     zq95  treatment  geomorph_100  \\\n",
       "0  10N_483827_4524602  21.5787  25.3350          3             9   \n",
       "1  10N_483828_4512551  56.1730  30.9620          3             5   \n",
       "2  10N_483828_4514248  40.9836  10.4400          3             3   \n",
       "3  10N_483829_4514263  42.7120   7.7380          3             3   \n",
       "4  10N_483830_4510126  57.1359   8.5665          3             6   \n",
       "\n",
       "   geomorph_250  geomorph_500  geomorph_1000  geomorph_2000  \\\n",
       "0             6             6              3              5   \n",
       "1             9             7              7              7   \n",
       "2             2             2              2              3   \n",
       "3             2             2              2              3   \n",
       "4             3             3              3              6   \n",
       "\n",
       "                                            geometry  pred_2018  pred_2020  \\\n",
       "0  POLYGON ((483828.120 4524603.000, 483828.200 4...   0.072072   0.746866   \n",
       "1  POLYGON ((483831.730 4512550.380, 483831.830 4...   0.804042   0.395577   \n",
       "2  POLYGON ((483831.960 4514248.890, 483831.950 4...   0.927923   0.963029   \n",
       "3  POLYGON ((483831.490 4514263.700, 483831.870 4...   0.799634   0.909905   \n",
       "4  POLYGON ((483834.480 4510126.440, 483834.470 4...   0.745946   0.936843   \n",
       "\n",
       "   pred_2022  \n",
       "0   0.198198  \n",
       "1   0.099099  \n",
       "2   0.873504  \n",
       "3   0.818944  \n",
       "4   0.162162  "
      ]
     },
     "execution_count": 61,
     "metadata": {},
     "output_type": "execute_result"
    }
   ],
   "source": [
    "\n",
    "# open desired columns of crowns\n",
    "crowns = gpd.read_parquet(crowns_path)[[\n",
    "    'UniqueID',\n",
    "    'area',\n",
    "    'zq95',\n",
    "    'treatment',\n",
    "    'geomorph_100',\n",
    "    'geomorph_250',\n",
    "    'geomorph_500',\n",
    "    'geomorph_1000',\n",
    "    'geomorph_2000',\n",
    "    'geometry'\n",
    "]].set_index('UniqueID')\n",
    "\n",
    "# join crowns to predictions and move unique id back to a column\n",
    "crowns = crowns.merge(pred_df, left_index=True, right_index=True).reset_index()\n",
    "\n",
    "print(len(crowns), ' crowns.')\n",
    "crowns.head()"
   ]
  },
  {
   "cell_type": "code",
   "execution_count": 72,
   "metadata": {},
   "outputs": [
    {
     "data": {
      "text/plain": [
       "True"
      ]
     },
     "execution_count": 72,
     "metadata": {},
     "output_type": "execute_result"
    }
   ],
   "source": [
    "len(set(crowns.UniqueID)) == len(crowns.UniqueID.to_list())"
   ]
  },
  {
   "cell_type": "code",
   "execution_count": 73,
   "metadata": {},
   "outputs": [],
   "source": [
    "crowns = crowns[~crowns.duplicated(subset='UniqueID')]"
   ]
  },
  {
   "cell_type": "code",
   "execution_count": 74,
   "metadata": {},
   "outputs": [
    {
     "data": {
      "text/plain": [
       "True"
      ]
     },
     "execution_count": 74,
     "metadata": {},
     "output_type": "execute_result"
    }
   ],
   "source": [
    "len(set(crowns.UniqueID)) == len(crowns.UniqueID.to_list())"
   ]
  },
  {
   "cell_type": "code",
   "execution_count": 70,
   "metadata": {},
   "outputs": [],
   "source": [
    "crowns.to_parquet(helena_path / 'predictions.parquet')"
   ]
  },
  {
   "cell_type": "code",
   "execution_count": null,
   "metadata": {},
   "outputs": [],
   "source": []
  }
 ],
 "metadata": {
  "kernelspec": {
   "display_name": "treemort",
   "language": "python",
   "name": "python3"
  },
  "language_info": {
   "codemirror_mode": {
    "name": "ipython",
    "version": 3
   },
   "file_extension": ".py",
   "mimetype": "text/x-python",
   "name": "python",
   "nbconvert_exporter": "python",
   "pygments_lexer": "ipython3",
   "version": "3.11.4"
  },
  "orig_nbformat": 4
 },
 "nbformat": 4,
 "nbformat_minor": 2
}

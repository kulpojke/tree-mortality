{
 "cells": [
  {
   "cell_type": "code",
   "execution_count": null,
   "metadata": {},
   "outputs": [],
   "source": [
    "import json\n",
    "import os\n",
    "import pickle\n",
    "from pathlib import Path\n",
    "from joblib import Parallel, delayed\n",
    "\n",
    "import geopandas as gpd\n",
    "import shapely\n",
    "import matplotlib.pyplot as plt\n",
    "import numpy as np\n",
    "import optuna\n",
    "import pandas as pd\n",
    "import rioxarray\n",
    "\n",
    "from xrspatial import hillshade\n",
    "from datashader.colors import Set1\n",
    "from datashader.transfer_functions import shade\n",
    "from datashader.transfer_functions import stack\n",
    "from datashader.transfer_functions import dynspread\n",
    "from datashader.transfer_functions import set_background\n",
    "from datashader.colors import Elevation\n",
    "\n",
    "from xrspatial import focal, slope\n",
    "import seaborn as sns\n",
    "from tqdm import tqdm\n",
    "from joblib_progress import joblib_progress\n",
    "from xrspatial.multispectral import ndvi, savi\n",
    "from sklearn.ensemble import RandomForestClassifier\n",
    "from sklearn.metrics import (confusion_matrix, ConfusionMatrixDisplay)\n",
    "from sklearn.model_selection import train_test_split, cross_val_score\n",
    "\n",
    "from sklearn.model_selection import RandomizedSearchCV as RSCV\n",
    "from sklearn.svm import SVC\n",
    "from sklearn.metrics import roc_auc_score, accuracy_score, log_loss"
   ]
  },
  {
   "cell_type": "code",
   "execution_count": 2,
   "metadata": {},
   "outputs": [],
   "source": [
    "# paths\n",
    "high_high_path = '/home/michael/TreeMortality/data/helena/treatment_polys/code15_n5.gpkg'\n",
    "high_un_path = '/home/michael/TreeMortality/data/helena/treatment_polys/code12_n5.gpkg'\n",
    "un_high_path = '/home/michael/TreeMortality/data/helena/treatment_polys/code3_n5.gpkg'\n",
    "un_un_path = '/home/michael/TreeMortality/data/helena/treatment_polys/code0_n5.gpkg'\n",
    "poly_paths = [high_high_path, high_un_path, un_high_path, un_un_path]\n",
    "\n",
    "helena_path = Path.cwd().parent / 'data' / 'helena'\n",
    "crown_path = helena_path / 'crowns'\n",
    "crown_path_list = [\n",
    "    c for c\n",
    "    in crown_path.iterdir()\n",
    "    if c.suffix == '.gpkg'\n",
    "    ]\n",
    "\n",
    "# open treatment polygons\n",
    "df = pd.concat([gpd.read_file(p) for p in poly_paths])\n",
    "df = df.drop('area_', axis=1)"
   ]
  },
  {
   "cell_type": "markdown",
   "metadata": {},
   "source": [
    "We will first check each crown to see if it falls completely within one of the treatment class areas.  If so it will be appended to a datframe of crowns.\n"
   ]
  },
  {
   "cell_type": "code",
   "execution_count": 3,
   "metadata": {},
   "outputs": [],
   "source": [
    "# jobs to run in ||\n",
    "n_jobs = 23\n",
    "\n",
    "def is_in_treatment(crown_df, row, buf):\n",
    "    '''Returns only crowns with buffer completely within polygon'''\n",
    "    crown_df.loc[\n",
    "        buf.within(row.geometry),\n",
    "        'treatment'] = row.attribute\n",
    "    \n",
    "    return crown_df[crown_df.treatment >= 0 ]\n",
    "\n",
    "\n",
    "def label_treatment(f):\n",
    "    crown_df = gpd.read_file(f)\n",
    "    \n",
    "    # get total bounds of tile as polygon\n",
    "    bounds = crown_df.total_bounds\n",
    "    bbox = shapely.geometry.box(*bounds)\n",
    "\n",
    "    # use only treatment geometries which touch the tile\n",
    "    sub_df = df[df.geometry.intersects(bbox)]\n",
    "    if len(sub_df) > 0:\n",
    "        # add treatment column\n",
    "        crown_df['treatment'] = -99\n",
    "        #buffer crowns\n",
    "        buf = crown_df.geometry.buffer(10)\n",
    "        # label treatments of crowns lying completely within poly\n",
    "        return Parallel(n_jobs=n_jobs)(\n",
    "            delayed(is_in_treatment)(crown_df, row, buf)\n",
    "            for _, row in sub_df.iterrows()\n",
    "            )\n",
    "    else:\n",
    "        # return empty df, but add treatment column first\n",
    "        cols = list(crown_df.columns) + ['treatment']\n",
    "        empty_df = pd.DataFrame(columns=cols)\n",
    "        return [empty_df]\n"
   ]
  },
  {
   "cell_type": "code",
   "execution_count": 5,
   "metadata": {},
   "outputs": [
    {
     "data": {
      "application/vnd.jupyter.widget-view+json": {
       "model_id": "f996a7f9d7214fc8a74c6b061bb5002b",
       "version_major": 2,
       "version_minor": 0
      },
      "text/plain": [
       "Output()"
      ]
     },
     "metadata": {},
     "output_type": "display_data"
    }
   ],
   "source": [
    "with joblib_progress('', total=len(crown_path_list)):\n",
    "    results =  Parallel(n_jobs=n_jobs)(delayed(label_treatment)(f) for f in crown_path_list)\n",
    "    "
   ]
  },
  {
   "cell_type": "code",
   "execution_count": 11,
   "metadata": {},
   "outputs": [],
   "source": [
    "crown_df = pd.concat([item for sublist in results for item in sublist])"
   ]
  },
  {
   "cell_type": "code",
   "execution_count": null,
   "metadata": {},
   "outputs": [],
   "source": [
    "    \n",
    "results = [label_treatment(f) for f in tqdm(crown_path_list)]\n",
    "crown_df = pd.concat(results)"
   ]
  },
  {
   "cell_type": "code",
   "execution_count": 13,
   "metadata": {},
   "outputs": [
    {
     "data": {
      "text/html": [
       "<div>\n",
       "<style scoped>\n",
       "    .dataframe tbody tr th:only-of-type {\n",
       "        vertical-align: middle;\n",
       "    }\n",
       "\n",
       "    .dataframe tbody tr th {\n",
       "        vertical-align: top;\n",
       "    }\n",
       "\n",
       "    .dataframe thead th {\n",
       "        text-align: right;\n",
       "    }\n",
       "</style>\n",
       "<table border=\"1\" class=\"dataframe\">\n",
       "  <thead>\n",
       "    <tr style=\"text-align: right;\">\n",
       "      <th></th>\n",
       "      <th>IDdalponte</th>\n",
       "      <th>zmax</th>\n",
       "      <th>zmean</th>\n",
       "      <th>zsd</th>\n",
       "      <th>zskew</th>\n",
       "      <th>zkurt</th>\n",
       "      <th>zentropy</th>\n",
       "      <th>pzabovezmean</th>\n",
       "      <th>pzabove2</th>\n",
       "      <th>zq5</th>\n",
       "      <th>...</th>\n",
       "      <th>ipcumzq90</th>\n",
       "      <th>p1th</th>\n",
       "      <th>p2th</th>\n",
       "      <th>p3th</th>\n",
       "      <th>p4th</th>\n",
       "      <th>p5th</th>\n",
       "      <th>pground</th>\n",
       "      <th>n</th>\n",
       "      <th>area</th>\n",
       "      <th>geometry</th>\n",
       "    </tr>\n",
       "  </thead>\n",
       "  <tbody>\n",
       "  </tbody>\n",
       "</table>\n",
       "<p>0 rows × 58 columns</p>\n",
       "</div>"
      ],
      "text/plain": [
       "Empty GeoDataFrame\n",
       "Columns: [IDdalponte, zmax, zmean, zsd, zskew, zkurt, zentropy, pzabovezmean, pzabove2, zq5, zq10, zq15, zq20, zq25, zq30, zq35, zq40, zq45, zq50, zq55, zq60, zq65, zq70, zq75, zq80, zq85, zq90, zq95, zpcum1, zpcum2, zpcum3, zpcum4, zpcum5, zpcum6, zpcum7, zpcum8, zpcum9, itot, imax, imean, isd, iskew, ikurt, ipground, ipcumzq10, ipcumzq30, ipcumzq50, ipcumzq70, ipcumzq90, p1th, p2th, p3th, p4th, p5th, pground, n, area, geometry]\n",
       "Index: []\n",
       "\n",
       "[0 rows x 58 columns]"
      ]
     },
     "execution_count": 13,
     "metadata": {},
     "output_type": "execute_result"
    }
   ],
   "source": [
    "crown_df.head()"
   ]
  },
  {
   "cell_type": "code",
   "execution_count": null,
   "metadata": {},
   "outputs": [],
   "source": [
    "# save\n",
    "crown_df.to_file(helena_path / 'crowns_with_treatment_label.gpkg')"
   ]
  },
  {
   "cell_type": "markdown",
   "metadata": {},
   "source": [
    "## Topographic Position Index\n",
    "In order to look at the effects of slope position on tree mortality we will use an algorithm that replicates the Topographic Position Index (TPI). \n",
    "\n",
    "$$\n",
    "\\text{TPI} = round((\\text{DEM} - \\text{focalmean}(\\text{DEM}, \\;annulus)) + 0.5)\n",
    "$$\n",
    "where _annulus_ is an anuulus defined by an inner and outer radius $, r_{inner}$ and $r_{outer}$, \n",
    "In keeping consistent with the methods of Kane et al.\\cite{kane2015} we will use $r_{outer}$ of 100 m, 250 m, 500 m, 1000 m, and 2000 m outer radii. Since the authors do not specify the inner radius used, here we will use the rule that $r_{inner} = \\frac{r_{outer}}{2}$.\n"
   ]
  },
  {
   "cell_type": "code",
   "execution_count": null,
   "metadata": {},
   "outputs": [],
   "source": [
    "# read the DEM\n",
    "dem = rioxarray.from_rasterio(helena_path / 'helena_DEM.tif')\n",
    "slope_agg = slope(dem[0])\n",
    "\n",
    "\n",
    "def topographic_position_index(dem, outer_radius, res=1):\n",
    "    '''\n",
    "    returns topological position index\n",
    "    using r_inner = r_outer /2\n",
    "    '''\n",
    "    inner_radius = round(outer_radius / 2)\n",
    "    kernel = focal.annulus_kernel(res, res, outer_radius, inner_radius)\n",
    "    return dem - focal.apply(dem, kernel)\n",
    "\n",
    "tpi = topographic_position_index(dem, 100)\n",
    "tpi"
   ]
  },
  {
   "cell_type": "code",
   "execution_count": null,
   "metadata": {},
   "outputs": [],
   "source": [
    "tpi_terrain = hillshade(tpi)\n",
    "tpi_terrain_shaded = shade(\n",
    "    tpi_terrain, cmap=[\"white\", \"black\"], alpha=255, how=\"linear\"\n",
    ")\n",
    "illuminated = hillshade(dem)\n",
    "illuminated_shaded = shade(illuminated, cmap=['gray', 'white'], alpha=255, how='linear')\n",
    "stack(illuminated_shaded, tpi_terrain_shaded)"
   ]
  },
  {
   "cell_type": "code",
   "execution_count": null,
   "metadata": {},
   "outputs": [],
   "source": [
    "def slope_position(tpi, slope):\n",
    "    std_dev = tpi.std()\n",
    "    arr = tpi.to_numpy()\n",
    "    slope_pos = np.zeros_like(arr)\n",
    "    \n",
    "    # class description breakpoints\n",
    "    slope_pos[arr > std_dev] = 1 # ridge\n",
    "    slope_pos[0.5 * std_dev < arr <= std_dev] = 2 # upper slope\n",
    "    slope_pos[(-0.5 * std_dev < arr < 0.5 * std_dev) & (slope_agg > 5)] = 3  # middle slope\n",
    "    slope_pos[(-0.5 * std_dev < arr < 0.5 * std_dev)  & (slope_agg <= 5)] = 4  # flats slope\n",
    "    slope_pos[-std_dev < arr < -0.5 * std_dev] = 5 # lower slope\n",
    "    slope_pos[arr < -std_dev] = 6 # valleys\n",
    "    \n",
    "    # numpy --> dataArray\n",
    "    dset = tpi.to_dataset(name='whatever')\n",
    "    dset['slope_pos'] = (('y', 'x'), slope_pos)\n",
    "    return dset.slope_pos\n",
    "\n",
    "slope_pos = slope_position(tpi, slope)\n",
    "slope_pos"
   ]
  },
  {
   "cell_type": "code",
   "execution_count": null,
   "metadata": {},
   "outputs": [],
   "source": [
    "os.makedirs(helena_path / 'TPI')\n",
    "\n",
    "for r in [100, 250, 500, 1000, 2000]:\n",
    "    # add column full of no data vals\n",
    "    crown_df[f'slope_position_{r}'] = -999\n",
    "    \n",
    "    # calctpi andslope position\n",
    "    tpi = topographic_position_index(dem, r)\n",
    "    slope_pos = slope_position(tpi, slope)\n",
    "    \n",
    "    # save as tiffs\n",
    "    tpi.rio.to_raster(helena_path / 'TPI' / f'tpi_{r}.tif')\n",
    "    slope_pos.rio.to_raster(helena_path / 'TPI' / f'slope_pos_{r}.tif')\n",
    "\n",
    "    # free a little memory    \n",
    "    del tpi\n",
    "\n",
    "    # attach slope positions to crowns\n",
    "    for _, row in crown_df.iterrows():\n",
    "        # get mean tpi of pixels in crown\n",
    "        row[f'slope_position_{r}'] = round(np.median(slope_pos.rio.clip([row.geometry]).to_numpy()))\n",
    "\n"
   ]
  },
  {
   "cell_type": "code",
   "execution_count": null,
   "metadata": {},
   "outputs": [],
   "source": [
    "for r in [100, 250, 500, 1000, 2000]:\n",
    "    ...\n",
    "    # calculate TPI\n",
    "    \n",
    "    # make sample stratified by treatment and TPI class"
   ]
  }
 ],
 "metadata": {
  "kernelspec": {
   "display_name": "treemort",
   "language": "python",
   "name": "python3"
  },
  "language_info": {
   "codemirror_mode": {
    "name": "ipython",
    "version": 3
   },
   "file_extension": ".py",
   "mimetype": "text/x-python",
   "name": "python",
   "nbconvert_exporter": "python",
   "pygments_lexer": "ipython3",
   "version": "3.11.4"
  },
  "orig_nbformat": 4
 },
 "nbformat": 4,
 "nbformat_minor": 2
}

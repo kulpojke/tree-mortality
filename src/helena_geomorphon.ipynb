{
 "cells": [
  {
   "cell_type": "markdown",
   "metadata": {},
   "source": [
    "# Geomorphons\n",
    "\n",
    "This notebook computes geomorphons rasters of various scales to the Helena study are.\n",
    "\n",
    "In order to look at the effects of slope position on tree mortality we will use the geomorphons algorithm \\cite{jasiewicz2013} as implemented in Whitebox Tools \\cite{lindsay2014}. Kane et al.\\cite{kane2015} use an algorithm that replicates the Topographic Position Index (TPI) and assigned landforms based on TPI thresholds for a similar type of analysis. The two approaches are similar \\cite{hassan2020, kramm2017} in their results. Geomorphons was chosen here for ease of computation.\n",
    "\n",
    "In keeping consistent with the methods of Kane et al.\\cite{kane2015} we will use $r_{outer}$ of 100 m, 250 m, 500 m, 1000 m, and 2000 m outer radii. Since the authors do not specify the inner radius used, here we will use the rule that $r_{inner} = \\frac{r_{outer}}{2}$.  A flatness threshod of 0 is used.\n"
   ]
  },
  {
   "cell_type": "code",
   "execution_count": 4,
   "metadata": {},
   "outputs": [],
   "source": [
    "import whitebox\n",
    "wbt = whitebox.WhiteboxTools()\n",
    "\n",
    "from pathlib import Path\n",
    "import os"
   ]
  },
  {
   "cell_type": "code",
   "execution_count": 5,
   "metadata": {},
   "outputs": [],
   "source": [
    "helena_path = Path.cwd().parent / 'data' / 'helena'\n",
    "dem_path = helena_path / 'helena_dem.tif'\n",
    "\n",
    "geomorph_dir = helena_path / 'geomorphons'\n",
    "os.makedirs(geomorph_dir, exist_ok=True)"
   ]
  },
  {
   "cell_type": "code",
   "execution_count": 6,
   "metadata": {},
   "outputs": [
    {
     "name": "stdout",
     "output_type": "stream",
     "text": [
      "./whitebox_tools --run=\"Geomorphons\" --dem='/home/michael/TreeMortality/data/helena/helena_dem.tif' --output='/home/michael/TreeMortality/data/helena/geomorphons/geomorph_100.tif' --search=100 --threshold=0.0 --fdist=0 --skip=50 --forms -v --compress_rasters=False\n",
      "\n",
      "****************************\n",
      "* Welcome to Geomorphons   *\n",
      "* Powered by WhiteboxTools *\n",
      "* www.whiteboxgeo.com      *\n",
      "****************************\n",
      "Reading data...\n",
      "Generating global ternary codes...\n",
      "Computing geomorphons...\n",
      "Saving data...\n",
      "Output file written\n",
      "Elapsed Time (excluding I/O): 11min 29.53s\n",
      "./whitebox_tools --run=\"Geomorphons\" --dem='/home/michael/TreeMortality/data/helena/helena_dem.tif' --output='/home/michael/TreeMortality/data/helena/geomorphons/geomorph_250.tif' --search=250 --threshold=0.0 --fdist=0 --skip=125 --forms -v --compress_rasters=False\n",
      "\n",
      "****************************\n",
      "* Welcome to Geomorphons   *\n",
      "* Powered by WhiteboxTools *\n",
      "* www.whiteboxgeo.com      *\n",
      "****************************\n",
      "Reading data...\n",
      "Generating global ternary codes...\n",
      "Computing geomorphons...\n",
      "Saving data...\n",
      "Output file written\n",
      "Elapsed Time (excluding I/O): 28min 4.252s\n",
      "./whitebox_tools --run=\"Geomorphons\" --dem='/home/michael/TreeMortality/data/helena/helena_dem.tif' --output='/home/michael/TreeMortality/data/helena/geomorphons/geomorph_500.tif' --search=500 --threshold=0.0 --fdist=0 --skip=250 --forms -v --compress_rasters=False\n",
      "\n",
      "****************************\n",
      "* Welcome to Geomorphons   *\n",
      "* Powered by WhiteboxTools *\n",
      "* www.whiteboxgeo.com      *\n",
      "****************************\n",
      "Reading data...\n",
      "Generating global ternary codes...\n",
      "Computing geomorphons...\n",
      "Saving data...\n",
      "Output file written\n",
      "Elapsed Time (excluding I/O): 58min 48.500s\n",
      "./whitebox_tools --run=\"Geomorphons\" --dem='/home/michael/TreeMortality/data/helena/helena_dem.tif' --output='/home/michael/TreeMortality/data/helena/geomorphons/geomorph_1000.tif' --search=1000 --threshold=0.0 --fdist=0 --skip=500 --forms -v --compress_rasters=False\n",
      "\n",
      "****************************\n",
      "* Welcome to Geomorphons   *\n",
      "* Powered by WhiteboxTools *\n",
      "* www.whiteboxgeo.com      *\n",
      "****************************\n",
      "Reading data...\n",
      "Generating global ternary codes...\n",
      "Computing geomorphons...\n",
      "Saving data...\n",
      "Output file written\n",
      "Elapsed Time (excluding I/O): 110min 26.243s\n",
      "./whitebox_tools --run=\"Geomorphons\" --dem='/home/michael/TreeMortality/data/helena/helena_dem.tif' --output='/home/michael/TreeMortality/data/helena/geomorphons/geomorph_2000.tif' --search=2000 --threshold=0.0 --fdist=0 --skip=1000 --forms -v --compress_rasters=False\n",
      "\n",
      "****************************\n",
      "* Welcome to Geomorphons   *\n",
      "* Powered by WhiteboxTools *\n",
      "* www.whiteboxgeo.com      *\n",
      "****************************\n",
      "Reading data...\n",
      "Generating global ternary codes...\n",
      "Computing geomorphons...\n",
      "Saving data...\n",
      "Output file written\n",
      "Elapsed Time (excluding I/O): 210min 47.102s\n"
     ]
    }
   ],
   "source": [
    "def my_callback(value):\n",
    "    if not '%' in value:\n",
    "        print(value)\n",
    "\n",
    "\n",
    "for r in [100, 250, 500, 1000, 2000]:\n",
    "\n",
    "    output = geomorph_dir / f'geomorph_{r}.tif' \n",
    "    \n",
    "    wbt.geomorphons(\n",
    "        dem_path, \n",
    "        output, \n",
    "        search=r, \n",
    "        threshold=0.0, \n",
    "        fdist=0, \n",
    "        skip=round(r / 2), \n",
    "        forms=True, \n",
    "        residuals=False, \n",
    "        callback=my_callback\n",
    "    )"
   ]
  },
  {
   "cell_type": "code",
   "execution_count": 7,
   "metadata": {},
   "outputs": [
    {
     "data": {
      "text/plain": [
       "7.05"
      ]
     },
     "execution_count": 7,
     "metadata": {},
     "output_type": "execute_result"
    }
   ],
   "source": [
    "423 / 60 "
   ]
  },
  {
   "cell_type": "code",
   "execution_count": null,
   "metadata": {},
   "outputs": [],
   "source": []
  }
 ],
 "metadata": {
  "kernelspec": {
   "display_name": "Python 3",
   "language": "python",
   "name": "python3"
  },
  "language_info": {
   "codemirror_mode": {
    "name": "ipython",
    "version": 3
   },
   "file_extension": ".py",
   "mimetype": "text/x-python",
   "name": "python",
   "nbconvert_exporter": "python",
   "pygments_lexer": "ipython3",
   "version": "3.10.12"
  },
  "orig_nbformat": 4
 },
 "nbformat": 4,
 "nbformat_minor": 2
}

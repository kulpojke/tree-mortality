{
 "cells": [
  {
   "cell_type": "markdown",
   "metadata": {},
   "source": [
    "# Tests for significance of difference between 0TEK0503244655 scores and all others"
   ]
  },
  {
   "cell_type": "code",
   "execution_count": 1,
   "metadata": {},
   "outputs": [],
   "source": [
    "from pathlib import Path\n",
    "\n",
    "import pymc as pm\n",
    "import numpy as np\n",
    "import pandas as pd\n",
    "import matplotlib.pyplot as plt"
   ]
  },
  {
   "cell_type": "markdown",
   "metadata": {},
   "source": [
    "Load data into dataframe."
   ]
  },
  {
   "cell_type": "code",
   "execution_count": 2,
   "metadata": {},
   "outputs": [
    {
     "data": {
      "text/html": [
       "<div>\n",
       "<style scoped>\n",
       "    .dataframe tbody tr th:only-of-type {\n",
       "        vertical-align: middle;\n",
       "    }\n",
       "\n",
       "    .dataframe tbody tr th {\n",
       "        vertical-align: top;\n",
       "    }\n",
       "\n",
       "    .dataframe thead th {\n",
       "        text-align: right;\n",
       "    }\n",
       "</style>\n",
       "<table border=\"1\" class=\"dataframe\">\n",
       "  <thead>\n",
       "    <tr style=\"text-align: right;\">\n",
       "      <th></th>\n",
       "      <th>tile</th>\n",
       "      <th>year</th>\n",
       "      <th>ROC AUC</th>\n",
       "      <th>Accuracy</th>\n",
       "      <th>Log Loss</th>\n",
       "    </tr>\n",
       "  </thead>\n",
       "  <tbody>\n",
       "    <tr>\n",
       "      <th>0</th>\n",
       "      <td>10TEL0509245547</td>\n",
       "      <td>2022</td>\n",
       "      <td>0.9714</td>\n",
       "      <td>0.9315</td>\n",
       "      <td>0.3583</td>\n",
       "    </tr>\n",
       "    <tr>\n",
       "      <th>1</th>\n",
       "      <td>10TDL0458245240</td>\n",
       "      <td>2022</td>\n",
       "      <td>0.9953</td>\n",
       "      <td>0.9836</td>\n",
       "      <td>0.1878</td>\n",
       "    </tr>\n",
       "    <tr>\n",
       "      <th>2</th>\n",
       "      <td>10TEK0503244655</td>\n",
       "      <td>2022</td>\n",
       "      <td>0.9156</td>\n",
       "      <td>0.8444</td>\n",
       "      <td>0.7774</td>\n",
       "    </tr>\n",
       "    <tr>\n",
       "      <th>3</th>\n",
       "      <td>10TDL0464245187</td>\n",
       "      <td>2022</td>\n",
       "      <td>0.9959</td>\n",
       "      <td>0.9858</td>\n",
       "      <td>0.0598</td>\n",
       "    </tr>\n",
       "    <tr>\n",
       "      <th>4</th>\n",
       "      <td>10TDL0480045075</td>\n",
       "      <td>2020</td>\n",
       "      <td>0.9833</td>\n",
       "      <td>0.9976</td>\n",
       "      <td>0.0499</td>\n",
       "    </tr>\n",
       "    <tr>\n",
       "      <th>5</th>\n",
       "      <td>10TDL0480045075</td>\n",
       "      <td>2022</td>\n",
       "      <td>0.9977</td>\n",
       "      <td>0.9820</td>\n",
       "      <td>0.1009</td>\n",
       "    </tr>\n",
       "    <tr>\n",
       "      <th>6</th>\n",
       "      <td>10TDL0480045075</td>\n",
       "      <td>2018</td>\n",
       "      <td>NaN</td>\n",
       "      <td>0.9451</td>\n",
       "      <td>NaN</td>\n",
       "    </tr>\n",
       "    <tr>\n",
       "      <th>7</th>\n",
       "      <td>10TEK0500244992</td>\n",
       "      <td>2022</td>\n",
       "      <td>0.9996</td>\n",
       "      <td>0.9887</td>\n",
       "      <td>0.0503</td>\n",
       "    </tr>\n",
       "    <tr>\n",
       "      <th>8</th>\n",
       "      <td>10TDL0488245360</td>\n",
       "      <td>2022</td>\n",
       "      <td>0.9990</td>\n",
       "      <td>0.9859</td>\n",
       "      <td>0.1460</td>\n",
       "    </tr>\n",
       "  </tbody>\n",
       "</table>\n",
       "</div>"
      ],
      "text/plain": [
       "              tile  year  ROC AUC  Accuracy  Log Loss\n",
       "0  10TEL0509245547  2022   0.9714    0.9315    0.3583\n",
       "1  10TDL0458245240  2022   0.9953    0.9836    0.1878\n",
       "2  10TEK0503244655  2022   0.9156    0.8444    0.7774\n",
       "3  10TDL0464245187  2022   0.9959    0.9858    0.0598\n",
       "4  10TDL0480045075  2020   0.9833    0.9976    0.0499\n",
       "5  10TDL0480045075  2022   0.9977    0.9820    0.1009\n",
       "6  10TDL0480045075  2018      NaN    0.9451       NaN\n",
       "7  10TEK0500244992  2022   0.9996    0.9887    0.0503\n",
       "8  10TDL0488245360  2022   0.9990    0.9859    0.1460"
      ]
     },
     "execution_count": 2,
     "metadata": {},
     "output_type": "execute_result"
    }
   ],
   "source": [
    "img_dir = Path('/home/michael/thesis/images/')\n",
    "\n",
    "data = [\n",
    "    {'tile': '10TEL0509245547', 'year': 2022, 'ROC AUC': 0.9714, 'Accuracy': 0.9315, 'Log Loss': 0.3583},\n",
    "    {'tile': '10TDL0458245240', 'year': 2022, 'ROC AUC': 0.9953, 'Accuracy': 0.9836, 'Log Loss': 0.1878},\n",
    "    {'tile': '10TEK0503244655', 'year': 2022, 'ROC AUC': 0.9156, 'Accuracy': 0.8444, 'Log Loss': 0.7774},\n",
    "    {'tile': '10TDL0464245187', 'year': 2022, 'ROC AUC': 0.9959, 'Accuracy': 0.9858, 'Log Loss': 0.0598},\n",
    "    {'tile': '10TDL0480045075', 'year': 2020, 'ROC AUC': 0.9833, 'Accuracy': 0.9976, 'Log Loss': 0.0499},\n",
    "    {'tile': '10TDL0480045075', 'year': 2022, 'ROC AUC': 0.9977, 'Accuracy': 0.9820, 'Log Loss': 0.1009},\n",
    "    {'tile': '10TDL0480045075', 'year': 2018, 'ROC AUC': None,  'Accuracy': 0.9451, 'Log Loss': None},\n",
    "    {'tile': '10TEK0500244992', 'year': 2022, 'ROC AUC': 0.9996, 'Accuracy': 0.9887, 'Log Loss': 0.0503},\n",
    "    {'tile': '10TDL0488245360', 'year': 2022, 'ROC AUC': 0.9990, 'Accuracy': 0.9859, 'Log Loss': 0.1460},\n",
    "]\n",
    "\n",
    "df = pd.DataFrame.from_dict(data)\n",
    "df\n"
   ]
  },
  {
   "cell_type": "markdown",
   "metadata": {},
   "source": [
    "### Test ROC AUC\n",
    "Observe that the few pieces of data we have do not apear to be normally distributed."
   ]
  },
  {
   "cell_type": "code",
   "execution_count": 3,
   "metadata": {},
   "outputs": [
    {
     "data": {
      "image/png": "[encoded data removed]",
      "text/plain": [
       "<Figure size 640x480 with 1 Axes>"
      ]
     },
     "metadata": {},
     "output_type": "display_data"
    }
   ],
   "source": [
    "df['ROC AUC'].hist();"
   ]
  },
  {
   "cell_type": "markdown",
   "metadata": {},
   "source": [
    "Get the ROC AUC values (dropping 10TDL0480045075, since it is NA)"
   ]
  },
  {
   "cell_type": "code",
   "execution_count": 4,
   "metadata": {},
   "outputs": [
    {
     "data": {
      "text/plain": [
       "array([0.9714, 0.9953, 0.9156, 0.9959, 0.9833, 0.9977, 0.9996, 0.999 ])"
      ]
     },
     "execution_count": 4,
     "metadata": {},
     "output_type": "execute_result"
    }
   ],
   "source": [
    "# ROC AUC data, excluding 10TEK0503244655\n",
    "data_roc_auc = df['ROC AUC'].dropna().values\n",
    "data_roc_auc"
   ]
  },
  {
   "cell_type": "markdown",
   "metadata": {},
   "source": [
    "Calculate Robust Z-Score.  If the absolute value of the score is much more than 1, one would think of the value as an outlier.\n",
    "\n",
    "Huber, Peter J., and E. M. Ronchetti. _Robust statistics. 2nd john wiley & sons._ Hoboken, NJ 2 (2009)."
   ]
  },
  {
   "cell_type": "code",
   "execution_count": 5,
   "metadata": {},
   "outputs": [
    {
     "name": "stdout",
     "output_type": "stream",
     "text": [
      "Robust Z-score: -14.583783783783872\n"
     ]
    }
   ],
   "source": [
    "data = data_roc_auc\n",
    "\n",
    "#  Median Absolute Deviation (MAD)\n",
    "median_value = np.median(data)\n",
    "mad_value = np.median(np.abs(data - median_value))\n",
    "\n",
    "# 10TEK0503244655 ROC AUC\n",
    "target_value_roc = df[df.tile == '10TEK0503244655']['ROC AUC'].values[0]\n",
    "\n",
    "#robust Z-score \n",
    "robust_z_score_roc = 0.6745 * (target_value_roc - median_value) / mad_value\n",
    "\n",
    "print(\"Robust Z-score:\", robust_z_score_roc)"
   ]
  },
  {
   "cell_type": "markdown",
   "metadata": {},
   "source": [
    "The score strongly suggests it's an outlier!  The score for 10TEK0503244655 is more than 17 times the median absolute deviation (MAD) below the central tendency, as measured by the median.\n",
    "\n",
    "Now let's do a Bayesian test (even though it is not normal, we will use a normal distribution in this case.  It is possible the distribution would be normal with more data, so we will test that case.)"
   ]
  },
  {
   "cell_type": "code",
   "execution_count": 6,
   "metadata": {},
   "outputs": [
    {
     "name": "stderr",
     "output_type": "stream",
     "text": [
      "Auto-assigning NUTS sampler...\n",
      "Initializing NUTS using jitter+adapt_diag...\n",
      "Multiprocess sampling (4 chains in 4 jobs)\n",
      "NUTS: [mu, sigma]\n"
     ]
    },
    {
     "data": {
      "text/html": [
       "\n",
       "<style>\n",
       "    /* Turns off some styling */\n",
       "    progress {\n",
       "        /* gets rid of default border in Firefox and Opera. */\n",
       "        border: none;\n",
       "        /* Needs to be in here for Safari polyfill so background images work as expected. */\n",
       "        background-size: auto;\n",
       "    }\n",
       "    progress:not([value]), progress:not([value])::-webkit-progress-bar {\n",
       "        background: repeating-linear-gradient(45deg, #7e7e7e, #7e7e7e 10px, #5c5c5c 10px, #5c5c5c 20px);\n",
       "    }\n",
       "    .progress-bar-interrupted, .progress-bar-interrupted::-webkit-progress-bar {\n",
       "        background: #F44336;\n",
       "    }\n",
       "</style>\n"
      ],
      "text/plain": [
       "<IPython.core.display.HTML object>"
      ]
     },
     "metadata": {},
     "output_type": "display_data"
    },
    {
     "data": {
      "text/html": [
       "\n",
       "    <div>\n",
       "      <progress value='48000' class='' max='48000' style='width:300px; height:20px; vertical-align: middle;'></progress>\n",
       "      100.00% [48000/48000 00:10&lt;00:00 Sampling 4 chains, 62 divergences]\n",
       "    </div>\n",
       "    "
      ],
      "text/plain": [
       "<IPython.core.display.HTML object>"
      ]
     },
     "metadata": {},
     "output_type": "display_data"
    },
    {
     "name": "stderr",
     "output_type": "stream",
     "text": [
      "Sampling 4 chains for 2_000 tune and 10_000 draw iterations (8_000 + 40_000 draws total) took 11 seconds.\n",
      "/home/michael/miniconda3/envs/pymc_env/lib/python3.11/site-packages/arviz/utils.py:184: NumbaDeprecationWarning: \u001b[1mThe 'nopython' keyword argument was not supplied to the 'numba.jit' decorator. The implicit default value for this argument is currently False, but it will be changed to True in Numba 0.59.0. See https://numba.readthedocs.io/en/stable/reference/deprecation.html#deprecation-of-object-mode-fall-back-behaviour-when-using-jit for details.\u001b[0m\n",
      "  numba_fn = numba.jit(**self.kwargs)(self.function)\n",
      "There were 62 divergences after tuning. Increase `target_accept` or reparameterize.\n",
      "Sampling: [observed]\n"
     ]
    },
    {
     "data": {
      "text/html": [
       "\n",
       "<style>\n",
       "    /* Turns off some styling */\n",
       "    progress {\n",
       "        /* gets rid of default border in Firefox and Opera. */\n",
       "        border: none;\n",
       "        /* Needs to be in here for Safari polyfill so background images work as expected. */\n",
       "        background-size: auto;\n",
       "    }\n",
       "    progress:not([value]), progress:not([value])::-webkit-progress-bar {\n",
       "        background: repeating-linear-gradient(45deg, #7e7e7e, #7e7e7e 10px, #5c5c5c 10px, #5c5c5c 20px);\n",
       "    }\n",
       "    .progress-bar-interrupted, .progress-bar-interrupted::-webkit-progress-bar {\n",
       "        background: #F44336;\n",
       "    }\n",
       "</style>\n"
      ],
      "text/plain": [
       "<IPython.core.display.HTML object>"
      ]
     },
     "metadata": {},
     "output_type": "display_data"
    },
    {
     "data": {
      "text/html": [
       "\n",
       "    <div>\n",
       "      <progress value='40000' class='' max='40000' style='width:300px; height:20px; vertical-align: middle;'></progress>\n",
       "      100.00% [40000/40000 00:01&lt;00:00]\n",
       "    </div>\n",
       "    "
      ],
      "text/plain": [
       "<IPython.core.display.HTML object>"
      ]
     },
     "metadata": {},
     "output_type": "display_data"
    }
   ],
   "source": [
    "# model\n",
    "with pm.Model() as model:\n",
    "    # Prior\n",
    "    mu = pm.Uniform('mu', lower=0, upper=1)\n",
    "    sigma = pm.HalfNormal('sigma', tau=1 / 0.1**2)\n",
    "    \n",
    "    # Likelihood\n",
    "    observed = pm.Normal('observed', mu=mu, tau=1 / sigma**2, observed=data_roc_auc)\n",
    "    \n",
    "    # Posterior\n",
    "    trace = pm.sample(10000, tune=2000)\n",
    "\n",
    "# Now we can look at the posterior predictive distribution to see how likely 0.9184 is, given the data\n",
    "with model:\n",
    "    posterior_predictive = pm.sample_posterior_predictive(trace)\n",
    "\n"
   ]
  },
  {
   "cell_type": "code",
   "execution_count": 7,
   "metadata": {},
   "outputs": [
    {
     "data": {
      "text/plain": [
       "'Target is 1.73 standard deviations from the mean!'"
      ]
     },
     "execution_count": 7,
     "metadata": {},
     "output_type": "execute_result"
    }
   ],
   "source": [
    "draws_roc = posterior_predictive['posterior_predictive'].observed.to_numpy().flatten()\n",
    "devs_roc = abs(target_value_roc - draws_roc.mean()) / draws_roc.std()\n",
    "\n",
    "f'Target is {devs_roc:.2f} standard deviations from the mean!' "
   ]
  },
  {
   "cell_type": "markdown",
   "metadata": {},
   "source": [
    "## Test Accuracy"
   ]
  },
  {
   "cell_type": "code",
   "execution_count": 8,
   "metadata": {},
   "outputs": [
    {
     "data": {
      "image/png": "[encoded data removed]",
      "text/plain": [
       "<Figure size 640x480 with 1 Axes>"
      ]
     },
     "metadata": {},
     "output_type": "display_data"
    }
   ],
   "source": [
    "df.Accuracy.hist();"
   ]
  },
  {
   "cell_type": "code",
   "execution_count": 9,
   "metadata": {},
   "outputs": [
    {
     "name": "stdout",
     "output_type": "stream",
     "text": [
      "Robust Z-score: -18.4098823529412\n"
     ]
    }
   ],
   "source": [
    "# Accuracy data\n",
    "data = df.Accuracy.dropna().values\n",
    "\n",
    "#  Median Absolute Deviation (MAD)\n",
    "median_value = np.median(data)\n",
    "mad_value = np.median(np.abs(data - median_value))\n",
    "\n",
    "# 10TEK0503244655 Accuracy\n",
    "target_value_acc = df[df.tile == '10TEK0503244655'].Accuracy.values[0]\n",
    "\n",
    "#robust Z-score \n",
    "robust_z_score_acc = 0.6745 * (target_value_acc - median_value) / mad_value\n",
    "\n",
    "print(\"Robust Z-score:\", robust_z_score_acc)\n"
   ]
  },
  {
   "cell_type": "code",
   "execution_count": 10,
   "metadata": {},
   "outputs": [
    {
     "name": "stderr",
     "output_type": "stream",
     "text": [
      "Auto-assigning NUTS sampler...\n",
      "Initializing NUTS using jitter+adapt_diag...\n",
      "Multiprocess sampling (4 chains in 4 jobs)\n",
      "NUTS: [mu, sigma]\n"
     ]
    },
    {
     "data": {
      "text/html": [
       "\n",
       "<style>\n",
       "    /* Turns off some styling */\n",
       "    progress {\n",
       "        /* gets rid of default border in Firefox and Opera. */\n",
       "        border: none;\n",
       "        /* Needs to be in here for Safari polyfill so background images work as expected. */\n",
       "        background-size: auto;\n",
       "    }\n",
       "    progress:not([value]), progress:not([value])::-webkit-progress-bar {\n",
       "        background: repeating-linear-gradient(45deg, #7e7e7e, #7e7e7e 10px, #5c5c5c 10px, #5c5c5c 20px);\n",
       "    }\n",
       "    .progress-bar-interrupted, .progress-bar-interrupted::-webkit-progress-bar {\n",
       "        background: #F44336;\n",
       "    }\n",
       "</style>\n"
      ],
      "text/plain": [
       "<IPython.core.display.HTML object>"
      ]
     },
     "metadata": {},
     "output_type": "display_data"
    },
    {
     "data": {
      "text/html": [
       "\n",
       "    <div>\n",
       "      <progress value='48000' class='' max='48000' style='width:300px; height:20px; vertical-align: middle;'></progress>\n",
       "      100.00% [48000/48000 00:09&lt;00:00 Sampling 4 chains, 34 divergences]\n",
       "    </div>\n",
       "    "
      ],
      "text/plain": [
       "<IPython.core.display.HTML object>"
      ]
     },
     "metadata": {},
     "output_type": "display_data"
    },
    {
     "name": "stderr",
     "output_type": "stream",
     "text": [
      "Sampling 4 chains for 2_000 tune and 10_000 draw iterations (8_000 + 40_000 draws total) took 9 seconds.\n",
      "There were 34 divergences after tuning. Increase `target_accept` or reparameterize.\n",
      "Sampling: [observed]\n"
     ]
    },
    {
     "data": {
      "text/html": [
       "\n",
       "<style>\n",
       "    /* Turns off some styling */\n",
       "    progress {\n",
       "        /* gets rid of default border in Firefox and Opera. */\n",
       "        border: none;\n",
       "        /* Needs to be in here for Safari polyfill so background images work as expected. */\n",
       "        background-size: auto;\n",
       "    }\n",
       "    progress:not([value]), progress:not([value])::-webkit-progress-bar {\n",
       "        background: repeating-linear-gradient(45deg, #7e7e7e, #7e7e7e 10px, #5c5c5c 10px, #5c5c5c 20px);\n",
       "    }\n",
       "    .progress-bar-interrupted, .progress-bar-interrupted::-webkit-progress-bar {\n",
       "        background: #F44336;\n",
       "    }\n",
       "</style>\n"
      ],
      "text/plain": [
       "<IPython.core.display.HTML object>"
      ]
     },
     "metadata": {},
     "output_type": "display_data"
    },
    {
     "data": {
      "text/html": [
       "\n",
       "    <div>\n",
       "      <progress value='40000' class='' max='40000' style='width:300px; height:20px; vertical-align: middle;'></progress>\n",
       "      100.00% [40000/40000 00:01&lt;00:00]\n",
       "    </div>\n",
       "    "
      ],
      "text/plain": [
       "<IPython.core.display.HTML object>"
      ]
     },
     "metadata": {},
     "output_type": "display_data"
    }
   ],
   "source": [
    "# model\n",
    "with pm.Model() as model:\n",
    "    # Prior\n",
    "    mu = pm.Uniform('mu', lower=0, upper=1)\n",
    "    sigma = pm.HalfNormal('sigma', tau=1 / 0.1**2)\n",
    "    \n",
    "    # Likelihood\n",
    "    observed = pm.Normal('observed', mu=mu, tau=1 / sigma**2, observed=data)\n",
    "    \n",
    "    # Posterior\n",
    "    trace = pm.sample(10000, tune=2000)\n",
    "\n",
    "# Now we can look at the posterior predictive distribution to see how likely 0.9184 is, given the data\n",
    "with model:\n",
    "    posterior_predictive = pm.sample_posterior_predictive(trace)\n",
    "\n",
    "values = posterior_predictive['observed_data']\n"
   ]
  },
  {
   "cell_type": "code",
   "execution_count": 11,
   "metadata": {},
   "outputs": [
    {
     "data": {
      "text/plain": [
       "'Target is 1.89 standard deviations from the mean!'"
      ]
     },
     "execution_count": 11,
     "metadata": {},
     "output_type": "execute_result"
    }
   ],
   "source": [
    "draws_acc = posterior_predictive['posterior_predictive'].observed.to_numpy().flatten()\n",
    "devs_acc = abs(target_value_acc - draws_acc.mean()) / draws_acc.std()\n",
    "\n",
    "f'Target is {devs_acc:.2f} standard deviations from the mean!' "
   ]
  },
  {
   "cell_type": "markdown",
   "metadata": {},
   "source": [
    "### Test Log-loss"
   ]
  },
  {
   "cell_type": "code",
   "execution_count": 12,
   "metadata": {},
   "outputs": [
    {
     "data": {
      "image/png": "[encoded data removed]",
      "text/plain": [
       "<Figure size 640x480 with 1 Axes>"
      ]
     },
     "metadata": {},
     "output_type": "display_data"
    }
   ],
   "source": [
    "df['Log Loss'].dropna().hist();"
   ]
  },
  {
   "cell_type": "code",
   "execution_count": 13,
   "metadata": {},
   "outputs": [
    {
     "name": "stdout",
     "output_type": "stream",
     "text": [
      "Robust Z-score: 7.073174909090908\n"
     ]
    }
   ],
   "source": [
    "# Accuracy data, excluding 10TEK0503244655\n",
    "data = df['Log Loss'].dropna().values\n",
    "\n",
    "#  Median Absolute Deviation (MAD)\n",
    "median_value = np.median(data)\n",
    "mad_value = np.median(np.abs(data - median_value))\n",
    "\n",
    "# 10TEK0503244655 Accuracy\n",
    "target_value_loss = df[df.tile == '10TEK0503244655'].Accuracy.values[0]\n",
    "\n",
    "#robust Z-score \n",
    "robust_z_score_loss = 0.6745 * (target_value_loss - median_value) / mad_value\n",
    "\n",
    "print(\"Robust Z-score:\", robust_z_score_loss)"
   ]
  },
  {
   "cell_type": "code",
   "execution_count": 14,
   "metadata": {},
   "outputs": [
    {
     "name": "stderr",
     "output_type": "stream",
     "text": [
      "Auto-assigning NUTS sampler...\n",
      "Initializing NUTS using jitter+adapt_diag...\n",
      "Multiprocess sampling (4 chains in 4 jobs)\n",
      "NUTS: [mu, sigma]\n"
     ]
    },
    {
     "data": {
      "text/html": [
       "\n",
       "<style>\n",
       "    /* Turns off some styling */\n",
       "    progress {\n",
       "        /* gets rid of default border in Firefox and Opera. */\n",
       "        border: none;\n",
       "        /* Needs to be in here for Safari polyfill so background images work as expected. */\n",
       "        background-size: auto;\n",
       "    }\n",
       "    progress:not([value]), progress:not([value])::-webkit-progress-bar {\n",
       "        background: repeating-linear-gradient(45deg, #7e7e7e, #7e7e7e 10px, #5c5c5c 10px, #5c5c5c 20px);\n",
       "    }\n",
       "    .progress-bar-interrupted, .progress-bar-interrupted::-webkit-progress-bar {\n",
       "        background: #F44336;\n",
       "    }\n",
       "</style>\n"
      ],
      "text/plain": [
       "<IPython.core.display.HTML object>"
      ]
     },
     "metadata": {},
     "output_type": "display_data"
    },
    {
     "data": {
      "text/html": [
       "\n",
       "    <div>\n",
       "      <progress value='48000' class='' max='48000' style='width:300px; height:20px; vertical-align: middle;'></progress>\n",
       "      100.00% [48000/48000 00:09&lt;00:00 Sampling 4 chains, 19 divergences]\n",
       "    </div>\n",
       "    "
      ],
      "text/plain": [
       "<IPython.core.display.HTML object>"
      ]
     },
     "metadata": {},
     "output_type": "display_data"
    },
    {
     "name": "stderr",
     "output_type": "stream",
     "text": [
      "Sampling 4 chains for 2_000 tune and 10_000 draw iterations (8_000 + 40_000 draws total) took 10 seconds.\n",
      "There were 19 divergences after tuning. Increase `target_accept` or reparameterize.\n",
      "Sampling: [observed]\n"
     ]
    },
    {
     "data": {
      "text/html": [
       "\n",
       "<style>\n",
       "    /* Turns off some styling */\n",
       "    progress {\n",
       "        /* gets rid of default border in Firefox and Opera. */\n",
       "        border: none;\n",
       "        /* Needs to be in here for Safari polyfill so background images work as expected. */\n",
       "        background-size: auto;\n",
       "    }\n",
       "    progress:not([value]), progress:not([value])::-webkit-progress-bar {\n",
       "        background: repeating-linear-gradient(45deg, #7e7e7e, #7e7e7e 10px, #5c5c5c 10px, #5c5c5c 20px);\n",
       "    }\n",
       "    .progress-bar-interrupted, .progress-bar-interrupted::-webkit-progress-bar {\n",
       "        background: #F44336;\n",
       "    }\n",
       "</style>\n"
      ],
      "text/plain": [
       "<IPython.core.display.HTML object>"
      ]
     },
     "metadata": {},
     "output_type": "display_data"
    },
    {
     "data": {
      "text/html": [
       "\n",
       "    <div>\n",
       "      <progress value='40000' class='' max='40000' style='width:300px; height:20px; vertical-align: middle;'></progress>\n",
       "      100.00% [40000/40000 00:01&lt;00:00]\n",
       "    </div>\n",
       "    "
      ],
      "text/plain": [
       "<IPython.core.display.HTML object>"
      ]
     },
     "metadata": {},
     "output_type": "display_data"
    }
   ],
   "source": [
    "# model\n",
    "with pm.Model() as model:\n",
    "    # Prior\n",
    "    mu = pm.Uniform('mu', lower=0, upper=1)\n",
    "    sigma = pm.HalfNormal('sigma', tau=1 / 0.1**2)\n",
    "    \n",
    "    # Likelihood\n",
    "    observed = pm.Normal('observed', mu=mu, tau=1 / sigma**2, observed=data_roc_auc)\n",
    "    \n",
    "    # Posterior\n",
    "    trace = pm.sample(10000, tune=2000)\n",
    "\n",
    "# Now we can look at the posterior predictive distribution to see how likely 0.9184 is, given the data\n",
    "with model:\n",
    "    posterior_predictive = pm.sample_posterior_predictive(trace)"
   ]
  },
  {
   "cell_type": "code",
   "execution_count": 15,
   "metadata": {},
   "outputs": [
    {
     "data": {
      "text/plain": [
       "'Target is 3.61 standard deviations from the mean!'"
      ]
     },
     "execution_count": 15,
     "metadata": {},
     "output_type": "execute_result"
    }
   ],
   "source": [
    "draws_loss = posterior_predictive['posterior_predictive'].observed.to_numpy().flatten()\n",
    "devs_loss = abs(target_value_loss - draws_loss.mean()) / draws_loss.std()\n",
    "\n",
    "f'Target is {devs_loss:.2f} standard deviations from the mean!' "
   ]
  },
  {
   "cell_type": "markdown",
   "metadata": {},
   "source": [
    "## Test to see if any other tiles are outliers\n",
    "\n",
    "Only using accuracy.  We will use a truncated normal distribution with mu at 0.95."
   ]
  },
  {
   "cell_type": "code",
   "execution_count": 47,
   "metadata": {},
   "outputs": [
    {
     "name": "stderr",
     "output_type": "stream",
     "text": [
      "Auto-assigning NUTS sampler...\n",
      "Initializing NUTS using jitter+adapt_diag...\n",
      "Multiprocess sampling (16 chains in 16 jobs)\n",
      "NUTS: [mu, tau]\n"
     ]
    },
    {
     "data": {
      "text/html": [
       "\n",
       "<style>\n",
       "    /* Turns off some styling */\n",
       "    progress {\n",
       "        /* gets rid of default border in Firefox and Opera. */\n",
       "        border: none;\n",
       "        /* Needs to be in here for Safari polyfill so background images work as expected. */\n",
       "        background-size: auto;\n",
       "    }\n",
       "    progress:not([value]), progress:not([value])::-webkit-progress-bar {\n",
       "        background: repeating-linear-gradient(45deg, #7e7e7e, #7e7e7e 10px, #5c5c5c 10px, #5c5c5c 20px);\n",
       "    }\n",
       "    .progress-bar-interrupted, .progress-bar-interrupted::-webkit-progress-bar {\n",
       "        background: #F44336;\n",
       "    }\n",
       "</style>\n"
      ],
      "text/plain": [
       "<IPython.core.display.HTML object>"
      ]
     },
     "metadata": {},
     "output_type": "display_data"
    },
    {
     "data": {
      "text/html": [
       "\n",
       "    <div>\n",
       "      <progress value='352000' class='' max='352000' style='width:300px; height:20px; vertical-align: middle;'></progress>\n",
       "      100.00% [352000/352000 00:42&lt;00:00 Sampling 16 chains, 498 divergences]\n",
       "    </div>\n",
       "    "
      ],
      "text/plain": [
       "<IPython.core.display.HTML object>"
      ]
     },
     "metadata": {},
     "output_type": "display_data"
    },
    {
     "name": "stderr",
     "output_type": "stream",
     "text": [
      "Sampling 16 chains for 2_000 tune and 20_000 draw iterations (32_000 + 320_000 draws total) took 42 seconds.\n",
      "There were 498 divergences after tuning. Increase `target_accept` or reparameterize.\n",
      "Sampling: [observed]\n"
     ]
    },
    {
     "data": {
      "text/html": [
       "\n",
       "<style>\n",
       "    /* Turns off some styling */\n",
       "    progress {\n",
       "        /* gets rid of default border in Firefox and Opera. */\n",
       "        border: none;\n",
       "        /* Needs to be in here for Safari polyfill so background images work as expected. */\n",
       "        background-size: auto;\n",
       "    }\n",
       "    progress:not([value]), progress:not([value])::-webkit-progress-bar {\n",
       "        background: repeating-linear-gradient(45deg, #7e7e7e, #7e7e7e 10px, #5c5c5c 10px, #5c5c5c 20px);\n",
       "    }\n",
       "    .progress-bar-interrupted, .progress-bar-interrupted::-webkit-progress-bar {\n",
       "        background: #F44336;\n",
       "    }\n",
       "</style>\n"
      ],
      "text/plain": [
       "<IPython.core.display.HTML object>"
      ]
     },
     "metadata": {},
     "output_type": "display_data"
    },
    {
     "data": {
      "text/html": [
       "\n",
       "    <div>\n",
       "      <progress value='320000' class='' max='320000' style='width:300px; height:20px; vertical-align: middle;'></progress>\n",
       "      100.00% [320000/320000 01:07&lt;00:00]\n",
       "    </div>\n",
       "    "
      ],
      "text/plain": [
       "<IPython.core.display.HTML object>"
      ]
     },
     "metadata": {},
     "output_type": "display_data"
    }
   ],
   "source": [
    "def hdi(samples, credible_mass=0.95):\n",
    "    sorted_samples = np.sort(samples)\n",
    "    ci_idx_inc = int(np.ceil(credible_mass * len(sorted_samples)))\n",
    "    n_ci = len(sorted_samples) - ci_idx_inc\n",
    "    ci_width = sorted_samples[ci_idx_inc:] - sorted_samples[:n_ci]\n",
    "\n",
    "    best_idx = np.argmin(ci_width)\n",
    "    hdi_min = sorted_samples[best_idx]\n",
    "    hdi_max = sorted_samples[best_idx + ci_idx_inc]\n",
    "    return hdi_min, hdi_max\n",
    "\n",
    "\n",
    "# Bayesian model\n",
    "with pm.Model() as model:\n",
    "    \n",
    "    # priors\n",
    "    mu = pm.TruncatedNormal(\n",
    "        'mu',\n",
    "        mu=0.99, \n",
    "        sigma=0.02, \n",
    "        lower=0, \n",
    "        upper=1)\n",
    "    \n",
    "    tau = pm.HalfNormal('tau' mu=0.025, sigma=0.005)\n",
    "    \n",
    "    # normal likelihood, with bounds\n",
    "    observed = pm.TruncatedNormal(\n",
    "        'observed',\n",
    "        mu=mu,\n",
    "        tau=tau,\n",
    "        lower=0,\n",
    "        upper=1,\n",
    "        observed=data\n",
    "        )\n",
    "    \n",
    "    # posterior\n",
    "    trace = pm.sample(20000, tune=2000, cores=16)\n",
    "\n",
    "# posterior predictive distribution\n",
    "with model:\n",
    "    posterior_predictive = pm.sample_posterior_predictive(trace)\n",
    "\n",
    "draws = posterior_predictive['posterior_predictive'].observed.to_numpy().flatten()\n",
    "hdi_min, hdi_max = hdi(draws)\n",
    "\n",
    "\n",
    "results = []\n",
    "for tile in df.tile.values:\n",
    "    data = df[df != tile].Accuracy.dropna().values\n",
    "    \n",
    "    #  Median Absolute Deviation (MAD)\n",
    "    median_value = np.median(data)\n",
    "    mad_value = np.median(np.abs(data - median_value))\n",
    "\n",
    "    # tile Accuracy\n",
    "    target_value = df[df.tile == tile].Accuracy.values[0]\n",
    "\n",
    "    #robust Z-score \n",
    "    robust_z_score = 0.6745 * (target_value - median_value) / mad_value\n",
    "\n",
    "    \n",
    "    \n",
    "    devs = abs(target_value - draws.mean()) / draws.std()\n",
    "\n",
    "    results.append(\n",
    "        {\n",
    "            'tile': tile,\n",
    "            'Accuracy': target_value,\n",
    "            'Robust Z-score': robust_z_score,\n",
    "            'Within 95%': (hdi_min <= target_value <=hdi_max)\n",
    "        }\n",
    "    )    \n"
   ]
  },
  {
   "cell_type": "code",
   "execution_count": 48,
   "metadata": {},
   "outputs": [
    {
     "data": {
      "text/html": [
       "<div>\n",
       "<style scoped>\n",
       "    .dataframe tbody tr th:only-of-type {\n",
       "        vertical-align: middle;\n",
       "    }\n",
       "\n",
       "    .dataframe tbody tr th {\n",
       "        vertical-align: top;\n",
       "    }\n",
       "\n",
       "    .dataframe thead th {\n",
       "        text-align: right;\n",
       "    }\n",
       "</style>\n",
       "<table border=\"1\" class=\"dataframe\">\n",
       "  <thead>\n",
       "    <tr style=\"text-align: right;\">\n",
       "      <th></th>\n",
       "      <th>tile</th>\n",
       "      <th>Accuracy</th>\n",
       "      <th>Robust Z-score</th>\n",
       "      <th>Within 95%</th>\n",
       "    </tr>\n",
       "  </thead>\n",
       "  <tbody>\n",
       "    <tr>\n",
       "      <th>0</th>\n",
       "      <td>10TEL0509245547</td>\n",
       "      <td>0.9315</td>\n",
       "      <td>-6.890480</td>\n",
       "      <td>True</td>\n",
       "    </tr>\n",
       "    <tr>\n",
       "      <th>1</th>\n",
       "      <td>10TDL0458245240</td>\n",
       "      <td>0.9836</td>\n",
       "      <td>0.000000</td>\n",
       "      <td>False</td>\n",
       "    </tr>\n",
       "    <tr>\n",
       "      <th>2</th>\n",
       "      <td>10TEK0503244655</td>\n",
       "      <td>0.8444</td>\n",
       "      <td>-18.409882</td>\n",
       "      <td>True</td>\n",
       "    </tr>\n",
       "    <tr>\n",
       "      <th>3</th>\n",
       "      <td>10TDL0464245187</td>\n",
       "      <td>0.9858</td>\n",
       "      <td>0.290961</td>\n",
       "      <td>False</td>\n",
       "    </tr>\n",
       "    <tr>\n",
       "      <th>4</th>\n",
       "      <td>10TDL0480045075</td>\n",
       "      <td>0.9976</td>\n",
       "      <td>1.851569</td>\n",
       "      <td>False</td>\n",
       "    </tr>\n",
       "    <tr>\n",
       "      <th>5</th>\n",
       "      <td>10TDL0480045075</td>\n",
       "      <td>0.9976</td>\n",
       "      <td>1.851569</td>\n",
       "      <td>False</td>\n",
       "    </tr>\n",
       "    <tr>\n",
       "      <th>6</th>\n",
       "      <td>10TDL0480045075</td>\n",
       "      <td>0.9976</td>\n",
       "      <td>1.851569</td>\n",
       "      <td>False</td>\n",
       "    </tr>\n",
       "    <tr>\n",
       "      <th>7</th>\n",
       "      <td>10TEK0500244992</td>\n",
       "      <td>0.9887</td>\n",
       "      <td>0.674500</td>\n",
       "      <td>False</td>\n",
       "    </tr>\n",
       "    <tr>\n",
       "      <th>8</th>\n",
       "      <td>10TDL0488245360</td>\n",
       "      <td>0.9859</td>\n",
       "      <td>0.304186</td>\n",
       "      <td>False</td>\n",
       "    </tr>\n",
       "  </tbody>\n",
       "</table>\n",
       "</div>"
      ],
      "text/plain": [
       "              tile  Accuracy  Robust Z-score  Within 95%\n",
       "0  10TEL0509245547    0.9315       -6.890480        True\n",
       "1  10TDL0458245240    0.9836        0.000000       False\n",
       "2  10TEK0503244655    0.8444      -18.409882        True\n",
       "3  10TDL0464245187    0.9858        0.290961       False\n",
       "4  10TDL0480045075    0.9976        1.851569       False\n",
       "5  10TDL0480045075    0.9976        1.851569       False\n",
       "6  10TDL0480045075    0.9976        1.851569       False\n",
       "7  10TEK0500244992    0.9887        0.674500       False\n",
       "8  10TDL0488245360    0.9859        0.304186       False"
      ]
     },
     "execution_count": 48,
     "metadata": {},
     "output_type": "execute_result"
    }
   ],
   "source": [
    "results_df = pd.DataFrame.from_dict(results)\n",
    "results_df"
   ]
  },
  {
   "cell_type": "markdown",
   "metadata": {},
   "source": [
    "## Summary"
   ]
  },
  {
   "cell_type": "code",
   "execution_count": 49,
   "metadata": {},
   "outputs": [
    {
     "data": {
      "text/plain": [
       "(array([1., 0., 0., 0., 0., 1., 1., 0., 1., 5.]),\n",
       " array([0.8444 , 0.85972, 0.87504, 0.89036, 0.90568, 0.921  , 0.93632,\n",
       "        0.95164, 0.96696, 0.98228, 0.9976 ]),\n",
       " <BarContainer object of 10 artists>)"
      ]
     },
     "execution_count": 49,
     "metadata": {},
     "output_type": "execute_result"
    },
    {
     "data": {
      "image/png": "[encoded data removed]",
      "text/plain": [
       "<Figure size 640x480 with 1 Axes>"
      ]
     },
     "metadata": {},
     "output_type": "display_data"
    }
   ],
   "source": [
    "plt.hist(data)"
   ]
  },
  {
   "cell_type": "code",
   "execution_count": 50,
   "metadata": {},
   "outputs": [
    {
     "data": {
      "image/png": "[encoded data removed]",
      "text/plain": [
       "<Figure size 640x480 with 2 Axes>"
      ]
     },
     "metadata": {},
     "output_type": "display_data"
    }
   ],
   "source": [
    "fig, [ax1, ax2] = plt.subplots(1,2)\n",
    "_ = df['Accuracy'].hist(\n",
    "    ax=ax1,\n",
    "    edgecolor='k',\n",
    "    facecolor='grey',\n",
    "    alpha=0.8\n",
    ")\n",
    "ax1.set_title('Accuracy')\n",
    "ax1.grid(visible=False)\n",
    "ax1.set_ylabel('count')\n",
    "ax1.axvline(x=hdi_min, c='magenta')\n",
    "ax1.axvline(x=hdi_max, c='magenta')\n",
    "\n",
    "_ = results_df['Robust Z-score'].hist(\n",
    "    ax=ax2,\n",
    "    edgecolor='k',\n",
    "    facecolor='grey',\n",
    "    alpha=0.8\n",
    ")\n",
    "ax2.set_title('Robust Z-score')\n",
    "ax2.grid(visible=False)\n",
    "\n",
    "plt.savefig(img_dir / 'significance.png')"
   ]
  },
  {
   "cell_type": "code",
   "execution_count": 19,
   "metadata": {},
   "outputs": [
    {
     "data": {
      "text/plain": [
       "'\\\\begin{tabular}{llrrr}\\n\\\\toprule\\n & tile & Accuracy & Robust Z-score & Within 95% \\\\\\\\\\n\\\\midrule\\n0 & 10TEL0509245547 & 0.931500 & -6.890480 & False \\\\\\\\\\n1 & 10TDL0458245240 & 0.983600 & 0.000000 & False \\\\\\\\\\n2 & 10TEK0503244655 & 0.844400 & -18.409882 & False \\\\\\\\\\n3 & 10TDL0464245187 & 0.985800 & 0.290961 & False \\\\\\\\\\n4 & 10TDL0480045075 & 0.997600 & 1.851569 & False \\\\\\\\\\n5 & 10TDL0480045075 & 0.997600 & 1.851569 & False \\\\\\\\\\n6 & 10TDL0480045075 & 0.997600 & 1.851569 & False \\\\\\\\\\n7 & 10TEK0500244992 & 0.988700 & 0.674500 & False \\\\\\\\\\n8 & 10TDL0488245360 & 0.985900 & 0.304186 & False \\\\\\\\\\n\\\\bottomrule\\n\\\\end{tabular}\\n'"
      ]
     },
     "execution_count": 19,
     "metadata": {},
     "output_type": "execute_result"
    }
   ],
   "source": [
    "results_df.to_latex()"
   ]
  },
  {
   "cell_type": "code",
   "execution_count": 28,
   "metadata": {},
   "outputs": [
    {
     "name": "stdout",
     "output_type": "stream",
     "text": [
      "\n",
      "    Despite the small sample size (n=8 for accuracy, n=7 for ROC AUC and Log Loss) it seems that there\n",
      "    is a significant difference between 10TEK0503244655 and the other tiles with regards to all three scores.\n",
      "    For ROC AUC robust z-score (which does not rely on an assumption of a normal distribution) was\n",
      "    -17.47, indicating that the score for 10TEK0503244655 is more than 17 times the median\n",
      "    absolute deviation (MAD) from the central tendency, as measured by the median.\n",
      "    \n",
      "    Using a bayesian test (assuming a normal distribution) we find 10TEK0503244655 to be 4.99 standard\n",
      "    deviations from the central tendency, as measured by the mean.\n",
      "    \n",
      "    For accuracy:\n",
      "    robust z-score: -28.25\n",
      "    Bayesian test: 4.11\n",
      "    \n",
      "    For log loss:\n",
      "    robust z-score: 9.91\n",
      "    Bayesian test: 9.73\n",
      "    \n",
      "    These are so far outside of the distributions, that even with the small samples, I think it is reasonable\n",
      "    to view the differences as significant.\n",
      "    \n"
     ]
    }
   ],
   "source": [
    "print(\n",
    "    f'''\n",
    "    Due to the small sample size (n=9 for accuracy, n=8 for ROC AUC and Log Loss) it is difficult to discern if there is significant difference between 10TEK0503244655 and the other tiles with regards to all three scores.  The Robust Z-score does not rely on an assumption of a normal distribution.  The Bayesian test does assume a normal distribution.  It would be expected that the scores for the tiles, if they are all from a dataset which is represented in the training data, should be normally distributed.  We do not however know the parameters of that distribution.  We can estimate them from the scores we have, but since there are so few we do not have that much confidence in our estimates, this lack of confidence should be reflected in likelihood of the Bayesian model.\n",
    "    \n",
    "    In the figure shown above the table, left:  Accuracy scores foe eac\n",
    "    \n",
    "    For ROC AUC  was {robust_z_score_roc:.2f}, indicating that the score for 10TEK0503244655 is more than 17 times the median absolute deviation (MAD) from the central tendency, as measured by the median.\n",
    "    \n",
    "    Using a b we find 10TEK0503244655 to be {devs_roc:.2f} standard\n",
    "    deviations from the central tendency, as measured by the mean.\n",
    "    \n",
    "    For accuracy:\n",
    "    robust z-score: {robust_z_score_acc:.2f}\n",
    "    Bayesian test: {devs_acc:.2f}\n",
    "    \n",
    "    For log loss:\n",
    "    robust z-score: {robust_z_score_loss:.2f}\n",
    "    Bayesian test: {devs_loss:.2f}\n",
    "    \n",
    "    These are so far outside of the distributions, that even with the small samples, I think it is reasonable\n",
    "    to view the differences as significant.\n",
    "    '''\n",
    ")"
   ]
  },
  {
   "cell_type": "code",
   "execution_count": null,
   "metadata": {},
   "outputs": [],
   "source": []
  }
 ],
 "metadata": {
  "kernelspec": {
   "display_name": "pymc_env",
   "language": "python",
   "name": "python3"
  },
  "language_info": {
   "codemirror_mode": {
    "name": "ipython",
    "version": 3
   },
   "file_extension": ".py",
   "mimetype": "text/x-python",
   "name": "python",
   "nbconvert_exporter": "python",
   "pygments_lexer": "ipython3",
   "version": "3.11.3"
  },
  "orig_nbformat": 4
 },
 "nbformat": 4,
 "nbformat_minor": 2
}

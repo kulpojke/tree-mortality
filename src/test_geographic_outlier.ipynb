{
 "cells": [
  {
   "cell_type": "markdown",
   "metadata": {},
   "source": [
    "# Tests for significance of difference between 0TEK0503244655 scores and all others"
   ]
  },
  {
   "cell_type": "code",
   "execution_count": 29,
   "metadata": {},
   "outputs": [
    {
     "ename": "ModuleNotFoundError",
     "evalue": "No module named 'seaborn'",
     "output_type": "error",
     "traceback": [
      "\u001b[0;31m---------------------------------------------------------------------------\u001b[0m",
      "\u001b[0;31mModuleNotFoundError\u001b[0m                       Traceback (most recent call last)",
      "Cell \u001b[0;32mIn[29], line 9\u001b[0m\n\u001b[1;32m      7\u001b[0m \u001b[39mimport\u001b[39;00m \u001b[39mpandas\u001b[39;00m \u001b[39mas\u001b[39;00m \u001b[39mpd\u001b[39;00m\n\u001b[1;32m      8\u001b[0m \u001b[39mimport\u001b[39;00m \u001b[39mmatplotlib\u001b[39;00m\u001b[39m.\u001b[39;00m\u001b[39mpyplot\u001b[39;00m \u001b[39mas\u001b[39;00m \u001b[39mplt\u001b[39;00m\n\u001b[0;32m----> 9\u001b[0m \u001b[39mimport\u001b[39;00m \u001b[39mseaborn\u001b[39;00m \u001b[39mas\u001b[39;00m \u001b[39msns\u001b[39;00m\n",
      "\u001b[0;31mModuleNotFoundError\u001b[0m: No module named 'seaborn'"
     ]
    }
   ],
   "source": [
    "from pathlib import Path\n",
    "import json\n",
    "\n",
    "import arviz as az\n",
    "import pymc as pm\n",
    "import numpy as np\n",
    "import pandas as pd\n",
    "import matplotlib.pyplot as plt"
   ]
  },
  {
   "cell_type": "markdown",
   "metadata": {},
   "source": [
    "## Test to see if any tiles are outliers\n",
    "\n",
    "Only using accuracy.  We will use a truncated normal distribution with mu at 0.95."
   ]
  },
  {
   "cell_type": "code",
   "execution_count": 78,
   "metadata": {},
   "outputs": [
    {
     "data": {
      "text/html": [
       "<div>\n",
       "<style scoped>\n",
       "    .dataframe tbody tr th:only-of-type {\n",
       "        vertical-align: middle;\n",
       "    }\n",
       "\n",
       "    .dataframe tbody tr th {\n",
       "        vertical-align: top;\n",
       "    }\n",
       "\n",
       "    .dataframe thead th {\n",
       "        text-align: right;\n",
       "    }\n",
       "</style>\n",
       "<table border=\"1\" class=\"dataframe\">\n",
       "  <thead>\n",
       "    <tr style=\"text-align: right;\">\n",
       "      <th></th>\n",
       "      <th>Unnamed: 0</th>\n",
       "      <th>tile</th>\n",
       "      <th>year</th>\n",
       "      <th>ROC AUC</th>\n",
       "      <th>Accuracy</th>\n",
       "      <th>Log Loss</th>\n",
       "    </tr>\n",
       "  </thead>\n",
       "  <tbody>\n",
       "    <tr>\n",
       "      <th>0</th>\n",
       "      <td>0</td>\n",
       "      <td>10TEL0509245547</td>\n",
       "      <td>2022</td>\n",
       "      <td>0.9714</td>\n",
       "      <td>0.9315</td>\n",
       "      <td>0.3583</td>\n",
       "    </tr>\n",
       "    <tr>\n",
       "      <th>1</th>\n",
       "      <td>1</td>\n",
       "      <td>10TDL0458245240</td>\n",
       "      <td>2022</td>\n",
       "      <td>0.9953</td>\n",
       "      <td>0.9836</td>\n",
       "      <td>0.1878</td>\n",
       "    </tr>\n",
       "    <tr>\n",
       "      <th>2</th>\n",
       "      <td>2</td>\n",
       "      <td>10TEK0503244655</td>\n",
       "      <td>2022</td>\n",
       "      <td>0.9156</td>\n",
       "      <td>0.8444</td>\n",
       "      <td>0.7774</td>\n",
       "    </tr>\n",
       "    <tr>\n",
       "      <th>3</th>\n",
       "      <td>3</td>\n",
       "      <td>10TDL0464245187</td>\n",
       "      <td>2022</td>\n",
       "      <td>0.9959</td>\n",
       "      <td>0.9858</td>\n",
       "      <td>0.0598</td>\n",
       "    </tr>\n",
       "    <tr>\n",
       "      <th>4</th>\n",
       "      <td>4</td>\n",
       "      <td>10TDL0480045075</td>\n",
       "      <td>2020</td>\n",
       "      <td>0.9833</td>\n",
       "      <td>0.9976</td>\n",
       "      <td>0.0499</td>\n",
       "    </tr>\n",
       "    <tr>\n",
       "      <th>5</th>\n",
       "      <td>5</td>\n",
       "      <td>10TDL0480045075</td>\n",
       "      <td>2022</td>\n",
       "      <td>0.9977</td>\n",
       "      <td>0.9820</td>\n",
       "      <td>0.1009</td>\n",
       "    </tr>\n",
       "    <tr>\n",
       "      <th>6</th>\n",
       "      <td>6</td>\n",
       "      <td>10TDL0480045075</td>\n",
       "      <td>2018</td>\n",
       "      <td>NaN</td>\n",
       "      <td>0.9451</td>\n",
       "      <td>NaN</td>\n",
       "    </tr>\n",
       "    <tr>\n",
       "      <th>7</th>\n",
       "      <td>7</td>\n",
       "      <td>10TEK0500244992</td>\n",
       "      <td>2022</td>\n",
       "      <td>0.9996</td>\n",
       "      <td>0.9887</td>\n",
       "      <td>0.0503</td>\n",
       "    </tr>\n",
       "    <tr>\n",
       "      <th>8</th>\n",
       "      <td>8</td>\n",
       "      <td>10TDL0488245360</td>\n",
       "      <td>2022</td>\n",
       "      <td>0.9990</td>\n",
       "      <td>0.9859</td>\n",
       "      <td>0.1460</td>\n",
       "    </tr>\n",
       "  </tbody>\n",
       "</table>\n",
       "</div>"
      ],
      "text/plain": [
       "   Unnamed: 0             tile  year  ROC AUC  Accuracy  Log Loss\n",
       "0           0  10TEL0509245547  2022   0.9714    0.9315    0.3583\n",
       "1           1  10TDL0458245240  2022   0.9953    0.9836    0.1878\n",
       "2           2  10TEK0503244655  2022   0.9156    0.8444    0.7774\n",
       "3           3  10TDL0464245187  2022   0.9959    0.9858    0.0598\n",
       "4           4  10TDL0480045075  2020   0.9833    0.9976    0.0499\n",
       "5           5  10TDL0480045075  2022   0.9977    0.9820    0.1009\n",
       "6           6  10TDL0480045075  2018      NaN    0.9451       NaN\n",
       "7           7  10TEK0500244992  2022   0.9996    0.9887    0.0503\n",
       "8           8  10TDL0488245360  2022   0.9990    0.9859    0.1460"
      ]
     },
     "execution_count": 78,
     "metadata": {},
     "output_type": "execute_result"
    }
   ],
   "source": [
    "score_path = Path.cwd() / 'tile_scores.csv'\n",
    "img_dir = Path('/home/michael/thesis/images')\n",
    "\n",
    "df = pd.read_csv(score_path)\n",
    "df"
   ]
  },
  {
   "cell_type": "code",
   "execution_count": 3,
   "metadata": {},
   "outputs": [
    {
     "data": {
      "text/plain": [
       "['ROC AUC', 'Accuracy', 'Log Loss']"
      ]
     },
     "execution_count": 3,
     "metadata": {},
     "output_type": "execute_result"
    }
   ],
   "source": [
    "cols = df.columns.to_list()[-3:]\n"
   ]
  },
  {
   "cell_type": "code",
   "execution_count": 4,
   "metadata": {},
   "outputs": [
    {
     "data": {
      "text/html": [
       "<div>\n",
       "<style scoped>\n",
       "    .dataframe tbody tr th:only-of-type {\n",
       "        vertical-align: middle;\n",
       "    }\n",
       "\n",
       "    .dataframe tbody tr th {\n",
       "        vertical-align: top;\n",
       "    }\n",
       "\n",
       "    .dataframe thead th {\n",
       "        text-align: right;\n",
       "    }\n",
       "</style>\n",
       "<table border=\"1\" class=\"dataframe\">\n",
       "  <thead>\n",
       "    <tr style=\"text-align: right;\">\n",
       "      <th></th>\n",
       "      <th>ROC AUC</th>\n",
       "      <th>Accuracy</th>\n",
       "      <th>Log Loss</th>\n",
       "    </tr>\n",
       "  </thead>\n",
       "  <tbody>\n",
       "    <tr>\n",
       "      <th>0</th>\n",
       "      <td>0.999959</td>\n",
       "      <td>0.998047</td>\n",
       "      <td>0.019129</td>\n",
       "    </tr>\n",
       "    <tr>\n",
       "      <th>1</th>\n",
       "      <td>0.999271</td>\n",
       "      <td>0.998047</td>\n",
       "      <td>0.021949</td>\n",
       "    </tr>\n",
       "    <tr>\n",
       "      <th>2</th>\n",
       "      <td>1.000000</td>\n",
       "      <td>1.000000</td>\n",
       "      <td>0.008913</td>\n",
       "    </tr>\n",
       "    <tr>\n",
       "      <th>3</th>\n",
       "      <td>1.000000</td>\n",
       "      <td>0.998047</td>\n",
       "      <td>0.011567</td>\n",
       "    </tr>\n",
       "    <tr>\n",
       "      <th>4</th>\n",
       "      <td>0.999918</td>\n",
       "      <td>0.996094</td>\n",
       "      <td>0.018860</td>\n",
       "    </tr>\n",
       "  </tbody>\n",
       "</table>\n",
       "</div>"
      ],
      "text/plain": [
       "    ROC AUC  Accuracy  Log Loss\n",
       "0  0.999959  0.998047  0.019129\n",
       "1  0.999271  0.998047  0.021949\n",
       "2  1.000000  1.000000  0.008913\n",
       "3  1.000000  0.998047  0.011567\n",
       "4  0.999918  0.996094  0.018860"
      ]
     },
     "execution_count": 4,
     "metadata": {},
     "output_type": "execute_result"
    }
   ],
   "source": [
    "obs_path = Path.cwd() / 'obs.csv'\n",
    "\n",
    "obs = pd.read_csv(obs_path)\n",
    "obs = obs [['roc', 'acc', 'loss']]\n",
    "obs.columns = cols\n",
    "obs.head()\n"
   ]
  },
  {
   "cell_type": "markdown",
   "metadata": {},
   "source": [
    "Using Accuracy"
   ]
  },
  {
   "cell_type": "code",
   "execution_count": 7,
   "metadata": {},
   "outputs": [],
   "source": [
    "def post_likelihoods(observations, score):\n",
    "    '''returns posterior predictive likelihood for each tile prediction \n",
    "    being from the underlying model of the other tiles.'''\n",
    "    \n",
    "    # get relevant obs\n",
    "    obs = observations[score].values\n",
    "\n",
    "    # Bayesian model\n",
    "    with pm.Model() as model:\n",
    "        \n",
    "        # weakly informative priors\n",
    "        mu = pm.TruncatedNormal(\n",
    "            'mu',\n",
    "            mu=0.9, \n",
    "            sigma=0.1, \n",
    "            lower=0, \n",
    "            upper=1)\n",
    "        \n",
    "        sigma = pm.Normal(\n",
    "            'sigma',\n",
    "            mu=0.3,\n",
    "            sigma=0.05\n",
    "        )\n",
    "        \n",
    "        # normal likelihood, with bounds\n",
    "        observed = pm.TruncatedNormal(\n",
    "            'observed',\n",
    "            mu=mu,\n",
    "            sigma=sigma,\n",
    "            lower=0,\n",
    "            upper=1,\n",
    "            observed=obs\n",
    "            )\n",
    "        \n",
    "        # posterior\n",
    "        trace = pm.sample(500, tune=2000, cores=16)\n",
    "\n",
    "    # prior and posterior predictive distribution\n",
    "    with model:\n",
    "        prior_predictive = pm.sample_prior_predictive(samples=50)\n",
    "        posterior_predictive = pm.sample_posterior_predictive(trace)\n",
    "\n",
    "    return prior_predictive, posterior_predictive, trace\n"
   ]
  },
  {
   "cell_type": "code",
   "execution_count": 81,
   "metadata": {},
   "outputs": [
    {
     "name": "stderr",
     "output_type": "stream",
     "text": [
      "Only 200 samples in chain.\n"
     ]
    },
    {
     "name": "stderr",
     "output_type": "stream",
     "text": [
      "Auto-assigning NUTS sampler...\n",
      "Initializing NUTS using jitter+adapt_diag...\n"
     ]
    },
    {
     "ename": "KeyboardInterrupt",
     "evalue": "",
     "output_type": "error",
     "traceback": [
      "\u001b[0;31m---------------------------------------------------------------------------\u001b[0m",
      "\u001b[0;31mKeyboardInterrupt\u001b[0m                         Traceback (most recent call last)",
      "Cell \u001b[0;32mIn[81], line 4\u001b[0m\n\u001b[1;32m      1\u001b[0m score \u001b[39m=\u001b[39m \u001b[39m'\u001b[39m\u001b[39mAccuracy\u001b[39m\u001b[39m'\u001b[39m\n\u001b[1;32m      3\u001b[0m \u001b[39m# get predictive distributions\u001b[39;00m\n\u001b[0;32m----> 4\u001b[0m prior_predictive, posterior_predictive, trace \u001b[39m=\u001b[39m post_likelihoods(obs, score)\n\u001b[1;32m      5\u001b[0m \u001b[39m#draw samples\u001b[39;00m\n\u001b[1;32m      6\u001b[0m draws \u001b[39m=\u001b[39m posterior_predictive[\u001b[39m'\u001b[39m\u001b[39mposterior_predictive\u001b[39m\u001b[39m'\u001b[39m]\u001b[39m.\u001b[39mobserved\u001b[39m.\u001b[39mto_numpy()\u001b[39m.\u001b[39mflatten()\n",
      "Cell \u001b[0;32mIn[7], line 36\u001b[0m, in \u001b[0;36mpost_likelihoods\u001b[0;34m(observations, score)\u001b[0m\n\u001b[1;32m     26\u001b[0m     observed \u001b[39m=\u001b[39m pm\u001b[39m.\u001b[39mTruncatedNormal(\n\u001b[1;32m     27\u001b[0m         \u001b[39m'\u001b[39m\u001b[39mobserved\u001b[39m\u001b[39m'\u001b[39m,\n\u001b[1;32m     28\u001b[0m         mu\u001b[39m=\u001b[39mmu,\n\u001b[0;32m   (...)\u001b[0m\n\u001b[1;32m     32\u001b[0m         observed\u001b[39m=\u001b[39mobs\n\u001b[1;32m     33\u001b[0m         )\n\u001b[1;32m     35\u001b[0m     \u001b[39m# posterior\u001b[39;00m\n\u001b[0;32m---> 36\u001b[0m     trace \u001b[39m=\u001b[39m pm\u001b[39m.\u001b[39;49msample(\u001b[39m200\u001b[39;49m, tune\u001b[39m=\u001b[39;49m\u001b[39m300\u001b[39;49m, cores\u001b[39m=\u001b[39;49m\u001b[39m16\u001b[39;49m)\n\u001b[1;32m     38\u001b[0m \u001b[39m# prior and posterior predictive distribution\u001b[39;00m\n\u001b[1;32m     39\u001b[0m \u001b[39mwith\u001b[39;00m model:\n",
      "File \u001b[0;32m~/miniconda3/envs/pymc_env/lib/python3.11/site-packages/pymc/sampling/mcmc.py:663\u001b[0m, in \u001b[0;36msample\u001b[0;34m(draws, tune, chains, cores, random_seed, progressbar, step, nuts_sampler, initvals, init, jitter_max_retries, n_init, trace, discard_tuned_samples, compute_convergence_checks, keep_warning_stat, return_inferencedata, idata_kwargs, nuts_sampler_kwargs, callback, mp_ctx, model, **kwargs)\u001b[0m\n\u001b[1;32m    661\u001b[0m         [kwargs\u001b[39m.\u001b[39msetdefault(k, v) \u001b[39mfor\u001b[39;00m k, v \u001b[39min\u001b[39;00m nuts_kwargs\u001b[39m.\u001b[39mitems()]\n\u001b[1;32m    662\u001b[0m     _log\u001b[39m.\u001b[39minfo(\u001b[39m\"\u001b[39m\u001b[39mAuto-assigning NUTS sampler...\u001b[39m\u001b[39m\"\u001b[39m)\n\u001b[0;32m--> 663\u001b[0m     initial_points, step \u001b[39m=\u001b[39m init_nuts(\n\u001b[1;32m    664\u001b[0m         init\u001b[39m=\u001b[39;49minit,\n\u001b[1;32m    665\u001b[0m         chains\u001b[39m=\u001b[39;49mchains,\n\u001b[1;32m    666\u001b[0m         n_init\u001b[39m=\u001b[39;49mn_init,\n\u001b[1;32m    667\u001b[0m         model\u001b[39m=\u001b[39;49mmodel,\n\u001b[1;32m    668\u001b[0m         random_seed\u001b[39m=\u001b[39;49mrandom_seed_list,\n\u001b[1;32m    669\u001b[0m         progressbar\u001b[39m=\u001b[39;49mprogressbar,\n\u001b[1;32m    670\u001b[0m         jitter_max_retries\u001b[39m=\u001b[39;49mjitter_max_retries,\n\u001b[1;32m    671\u001b[0m         tune\u001b[39m=\u001b[39;49mtune,\n\u001b[1;32m    672\u001b[0m         initvals\u001b[39m=\u001b[39;49minitvals,\n\u001b[1;32m    673\u001b[0m         \u001b[39m*\u001b[39;49m\u001b[39m*\u001b[39;49mkwargs,\n\u001b[1;32m    674\u001b[0m     )\n\u001b[1;32m    676\u001b[0m \u001b[39mif\u001b[39;00m initial_points \u001b[39mis\u001b[39;00m \u001b[39mNone\u001b[39;00m:\n\u001b[1;32m    677\u001b[0m     \u001b[39m# Time to draw/evaluate numeric start points for each chain.\u001b[39;00m\n\u001b[1;32m    678\u001b[0m     ipfns \u001b[39m=\u001b[39m make_initial_point_fns_per_chain(\n\u001b[1;32m    679\u001b[0m         model\u001b[39m=\u001b[39mmodel,\n\u001b[1;32m    680\u001b[0m         overrides\u001b[39m=\u001b[39minitvals,\n\u001b[1;32m    681\u001b[0m         jitter_rvs\u001b[39m=\u001b[39m\u001b[39mset\u001b[39m(),\n\u001b[1;32m    682\u001b[0m         chains\u001b[39m=\u001b[39mchains,\n\u001b[1;32m    683\u001b[0m     )\n",
      "File \u001b[0;32m~/miniconda3/envs/pymc_env/lib/python3.11/site-packages/pymc/sampling/mcmc.py:1308\u001b[0m, in \u001b[0;36minit_nuts\u001b[0;34m(init, chains, n_init, model, random_seed, progressbar, jitter_max_retries, tune, initvals, **kwargs)\u001b[0m\n\u001b[1;32m   1301\u001b[0m _log\u001b[39m.\u001b[39minfo(\u001b[39mf\u001b[39m\u001b[39m\"\u001b[39m\u001b[39mInitializing NUTS using \u001b[39m\u001b[39m{\u001b[39;00minit\u001b[39m}\u001b[39;00m\u001b[39m...\u001b[39m\u001b[39m\"\u001b[39m)\n\u001b[1;32m   1303\u001b[0m cb \u001b[39m=\u001b[39m [\n\u001b[1;32m   1304\u001b[0m     pm\u001b[39m.\u001b[39mcallbacks\u001b[39m.\u001b[39mCheckParametersConvergence(tolerance\u001b[39m=\u001b[39m\u001b[39m1e-2\u001b[39m, diff\u001b[39m=\u001b[39m\u001b[39m\"\u001b[39m\u001b[39mabsolute\u001b[39m\u001b[39m\"\u001b[39m),\n\u001b[1;32m   1305\u001b[0m     pm\u001b[39m.\u001b[39mcallbacks\u001b[39m.\u001b[39mCheckParametersConvergence(tolerance\u001b[39m=\u001b[39m\u001b[39m1e-2\u001b[39m, diff\u001b[39m=\u001b[39m\u001b[39m\"\u001b[39m\u001b[39mrelative\u001b[39m\u001b[39m\"\u001b[39m),\n\u001b[1;32m   1306\u001b[0m ]\n\u001b[0;32m-> 1308\u001b[0m initial_points \u001b[39m=\u001b[39m _init_jitter(\n\u001b[1;32m   1309\u001b[0m     model,\n\u001b[1;32m   1310\u001b[0m     initvals,\n\u001b[1;32m   1311\u001b[0m     seeds\u001b[39m=\u001b[39;49mrandom_seed_list,\n\u001b[1;32m   1312\u001b[0m     jitter\u001b[39m=\u001b[39;49m\u001b[39m\"\u001b[39;49m\u001b[39mjitter\u001b[39;49m\u001b[39m\"\u001b[39;49m \u001b[39min\u001b[39;49;00m init,\n\u001b[1;32m   1313\u001b[0m     jitter_max_retries\u001b[39m=\u001b[39;49mjitter_max_retries,\n\u001b[1;32m   1314\u001b[0m )\n\u001b[1;32m   1316\u001b[0m apoints \u001b[39m=\u001b[39m [DictToArrayBijection\u001b[39m.\u001b[39mmap(point) \u001b[39mfor\u001b[39;00m point \u001b[39min\u001b[39;00m initial_points]\n\u001b[1;32m   1317\u001b[0m apoints_data \u001b[39m=\u001b[39m [apoint\u001b[39m.\u001b[39mdata \u001b[39mfor\u001b[39;00m apoint \u001b[39min\u001b[39;00m apoints]\n",
      "File \u001b[0;32m~/miniconda3/envs/pymc_env/lib/python3.11/site-packages/pymc/sampling/mcmc.py:1202\u001b[0m, in \u001b[0;36m_init_jitter\u001b[0;34m(model, initvals, seeds, jitter, jitter_max_retries)\u001b[0m\n\u001b[1;32m   1200\u001b[0m \u001b[39mif\u001b[39;00m i \u001b[39m<\u001b[39m jitter_max_retries:\n\u001b[1;32m   1201\u001b[0m     \u001b[39mtry\u001b[39;00m:\n\u001b[0;32m-> 1202\u001b[0m         model\u001b[39m.\u001b[39;49mcheck_start_vals(point)\n\u001b[1;32m   1203\u001b[0m     \u001b[39mexcept\u001b[39;00m SamplingError:\n\u001b[1;32m   1204\u001b[0m         \u001b[39m# Retry with a new seed\u001b[39;00m\n\u001b[1;32m   1205\u001b[0m         seed \u001b[39m=\u001b[39m rng\u001b[39m.\u001b[39mrandint(\u001b[39m2\u001b[39m\u001b[39m*\u001b[39m\u001b[39m*\u001b[39m\u001b[39m30\u001b[39m, dtype\u001b[39m=\u001b[39mnp\u001b[39m.\u001b[39mint64)\n",
      "File \u001b[0;32m~/miniconda3/envs/pymc_env/lib/python3.11/site-packages/pymc/model.py:1781\u001b[0m, in \u001b[0;36mModel.check_start_vals\u001b[0;34m(self, start)\u001b[0m\n\u001b[1;32m   1775\u001b[0m     valid_keys \u001b[39m=\u001b[39m \u001b[39m\"\u001b[39m\u001b[39m, \u001b[39m\u001b[39m\"\u001b[39m\u001b[39m.\u001b[39mjoin(value_names_set)\n\u001b[1;32m   1776\u001b[0m     \u001b[39mraise\u001b[39;00m \u001b[39mKeyError\u001b[39;00m(\n\u001b[1;32m   1777\u001b[0m         \u001b[39m\"\u001b[39m\u001b[39mSome start parameters do not appear in the model!\u001b[39m\u001b[39m\\n\u001b[39;00m\u001b[39m\"\u001b[39m\n\u001b[1;32m   1778\u001b[0m         \u001b[39mf\u001b[39m\u001b[39m\"\u001b[39m\u001b[39mValid keys are: \u001b[39m\u001b[39m{\u001b[39;00mvalid_keys\u001b[39m}\u001b[39;00m\u001b[39m, but \u001b[39m\u001b[39m{\u001b[39;00mextra_keys\u001b[39m}\u001b[39;00m\u001b[39m was supplied\u001b[39m\u001b[39m\"\u001b[39m\n\u001b[1;32m   1779\u001b[0m     )\n\u001b[0;32m-> 1781\u001b[0m initial_eval \u001b[39m=\u001b[39m \u001b[39mself\u001b[39;49m\u001b[39m.\u001b[39;49mpoint_logps(point\u001b[39m=\u001b[39;49melem)\n\u001b[1;32m   1783\u001b[0m \u001b[39mif\u001b[39;00m \u001b[39mnot\u001b[39;00m \u001b[39mall\u001b[39m(np\u001b[39m.\u001b[39misfinite(v) \u001b[39mfor\u001b[39;00m v \u001b[39min\u001b[39;00m initial_eval\u001b[39m.\u001b[39mvalues()):\n\u001b[1;32m   1784\u001b[0m     \u001b[39mraise\u001b[39;00m SamplingError(\n\u001b[1;32m   1785\u001b[0m         \u001b[39m\"\u001b[39m\u001b[39mInitial evaluation of model at starting point failed!\u001b[39m\u001b[39m\\n\u001b[39;00m\u001b[39m\"\u001b[39m\n\u001b[1;32m   1786\u001b[0m         \u001b[39mf\u001b[39m\u001b[39m\"\u001b[39m\u001b[39mStarting values:\u001b[39m\u001b[39m\\n\u001b[39;00m\u001b[39m{\u001b[39;00melem\u001b[39m}\u001b[39;00m\u001b[39m\\n\u001b[39;00m\u001b[39m\\n\u001b[39;00m\u001b[39m\"\u001b[39m\n\u001b[1;32m   1787\u001b[0m         \u001b[39mf\u001b[39m\u001b[39m\"\u001b[39m\u001b[39mLogp initial evaluation results:\u001b[39m\u001b[39m\\n\u001b[39;00m\u001b[39m{\u001b[39;00minitial_eval\u001b[39m}\u001b[39;00m\u001b[39m\\n\u001b[39;00m\u001b[39m\"\u001b[39m\n\u001b[1;32m   1788\u001b[0m         \u001b[39m\"\u001b[39m\u001b[39mYou can call `model.debug()` for more details.\u001b[39m\u001b[39m\"\u001b[39m\n\u001b[1;32m   1789\u001b[0m     )\n",
      "File \u001b[0;32m~/miniconda3/envs/pymc_env/lib/python3.11/site-packages/pymc/model.py:1816\u001b[0m, in \u001b[0;36mModel.point_logps\u001b[0;34m(self, point, round_vals)\u001b[0m\n\u001b[1;32m   1810\u001b[0m factors \u001b[39m=\u001b[39m \u001b[39mself\u001b[39m\u001b[39m.\u001b[39mbasic_RVs \u001b[39m+\u001b[39m \u001b[39mself\u001b[39m\u001b[39m.\u001b[39mpotentials\n\u001b[1;32m   1811\u001b[0m factor_logps_fn \u001b[39m=\u001b[39m [pt\u001b[39m.\u001b[39msum(factor) \u001b[39mfor\u001b[39;00m factor \u001b[39min\u001b[39;00m \u001b[39mself\u001b[39m\u001b[39m.\u001b[39mlogp(factors, \u001b[39msum\u001b[39m\u001b[39m=\u001b[39m\u001b[39mFalse\u001b[39;00m)]\n\u001b[1;32m   1812\u001b[0m \u001b[39mreturn\u001b[39;00m {\n\u001b[1;32m   1813\u001b[0m     factor\u001b[39m.\u001b[39mname: np\u001b[39m.\u001b[39mround(np\u001b[39m.\u001b[39masarray(factor_logp), round_vals)\n\u001b[1;32m   1814\u001b[0m     \u001b[39mfor\u001b[39;00m factor, factor_logp \u001b[39min\u001b[39;00m \u001b[39mzip\u001b[39m(\n\u001b[1;32m   1815\u001b[0m         factors,\n\u001b[0;32m-> 1816\u001b[0m         \u001b[39mself\u001b[39;49m\u001b[39m.\u001b[39;49mcompile_fn(factor_logps_fn)(point),\n\u001b[1;32m   1817\u001b[0m     )\n\u001b[1;32m   1818\u001b[0m }\n",
      "File \u001b[0;32m~/miniconda3/envs/pymc_env/lib/python3.11/site-packages/pymc/model.py:1660\u001b[0m, in \u001b[0;36mModel.compile_fn\u001b[0;34m(self, outs, inputs, mode, point_fn, **kwargs)\u001b[0m\n\u001b[1;32m   1657\u001b[0m     inputs \u001b[39m=\u001b[39m inputvars(outs)\n\u001b[1;32m   1659\u001b[0m \u001b[39mwith\u001b[39;00m \u001b[39mself\u001b[39m:\n\u001b[0;32m-> 1660\u001b[0m     fn \u001b[39m=\u001b[39m compile_pymc(\n\u001b[1;32m   1661\u001b[0m         inputs,\n\u001b[1;32m   1662\u001b[0m         outs,\n\u001b[1;32m   1663\u001b[0m         allow_input_downcast\u001b[39m=\u001b[39;49m\u001b[39mTrue\u001b[39;49;00m,\n\u001b[1;32m   1664\u001b[0m         accept_inplace\u001b[39m=\u001b[39;49m\u001b[39mTrue\u001b[39;49;00m,\n\u001b[1;32m   1665\u001b[0m         mode\u001b[39m=\u001b[39;49mmode,\n\u001b[1;32m   1666\u001b[0m         \u001b[39m*\u001b[39;49m\u001b[39m*\u001b[39;49mkwargs,\n\u001b[1;32m   1667\u001b[0m     )\n\u001b[1;32m   1669\u001b[0m \u001b[39mif\u001b[39;00m point_fn:\n\u001b[1;32m   1670\u001b[0m     \u001b[39mreturn\u001b[39;00m PointFunc(fn)\n",
      "File \u001b[0;32m~/miniconda3/envs/pymc_env/lib/python3.11/site-packages/pymc/pytensorf.py:1202\u001b[0m, in \u001b[0;36mcompile_pymc\u001b[0;34m(inputs, outputs, random_seed, mode, **kwargs)\u001b[0m\n\u001b[1;32m   1200\u001b[0m opt_qry \u001b[39m=\u001b[39m mode\u001b[39m.\u001b[39mprovided_optimizer\u001b[39m.\u001b[39mincluding(\u001b[39m\"\u001b[39m\u001b[39mrandom_make_inplace\u001b[39m\u001b[39m\"\u001b[39m, check_parameter_opt)\n\u001b[1;32m   1201\u001b[0m mode \u001b[39m=\u001b[39m Mode(linker\u001b[39m=\u001b[39mmode\u001b[39m.\u001b[39mlinker, optimizer\u001b[39m=\u001b[39mopt_qry)\n\u001b[0;32m-> 1202\u001b[0m pytensor_function \u001b[39m=\u001b[39m pytensor\u001b[39m.\u001b[39;49mfunction(\n\u001b[1;32m   1203\u001b[0m     inputs,\n\u001b[1;32m   1204\u001b[0m     outputs,\n\u001b[1;32m   1205\u001b[0m     updates\u001b[39m=\u001b[39;49m{\u001b[39m*\u001b[39;49m\u001b[39m*\u001b[39;49mrng_updates, \u001b[39m*\u001b[39;49m\u001b[39m*\u001b[39;49mkwargs\u001b[39m.\u001b[39;49mpop(\u001b[39m\"\u001b[39;49m\u001b[39mupdates\u001b[39;49m\u001b[39m\"\u001b[39;49m, {})},\n\u001b[1;32m   1206\u001b[0m     mode\u001b[39m=\u001b[39;49mmode,\n\u001b[1;32m   1207\u001b[0m     \u001b[39m*\u001b[39;49m\u001b[39m*\u001b[39;49mkwargs,\n\u001b[1;32m   1208\u001b[0m )\n\u001b[1;32m   1209\u001b[0m \u001b[39mreturn\u001b[39;00m pytensor_function\n",
      "File \u001b[0;32m~/miniconda3/envs/pymc_env/lib/python3.11/site-packages/pytensor/compile/function/__init__.py:315\u001b[0m, in \u001b[0;36mfunction\u001b[0;34m(inputs, outputs, mode, updates, givens, no_default_updates, accept_inplace, name, rebuild_strict, allow_input_downcast, profile, on_unused_input)\u001b[0m\n\u001b[1;32m    309\u001b[0m     fn \u001b[39m=\u001b[39m orig_function(\n\u001b[1;32m    310\u001b[0m         inputs, outputs, mode\u001b[39m=\u001b[39mmode, accept_inplace\u001b[39m=\u001b[39maccept_inplace, name\u001b[39m=\u001b[39mname\n\u001b[1;32m    311\u001b[0m     )\n\u001b[1;32m    312\u001b[0m \u001b[39melse\u001b[39;00m:\n\u001b[1;32m    313\u001b[0m     \u001b[39m# note: pfunc will also call orig_function -- orig_function is\u001b[39;00m\n\u001b[1;32m    314\u001b[0m     \u001b[39m#      a choke point that all compilation must pass through\u001b[39;00m\n\u001b[0;32m--> 315\u001b[0m     fn \u001b[39m=\u001b[39m pfunc(\n\u001b[1;32m    316\u001b[0m         params\u001b[39m=\u001b[39;49minputs,\n\u001b[1;32m    317\u001b[0m         outputs\u001b[39m=\u001b[39;49moutputs,\n\u001b[1;32m    318\u001b[0m         mode\u001b[39m=\u001b[39;49mmode,\n\u001b[1;32m    319\u001b[0m         updates\u001b[39m=\u001b[39;49mupdates,\n\u001b[1;32m    320\u001b[0m         givens\u001b[39m=\u001b[39;49mgivens,\n\u001b[1;32m    321\u001b[0m         no_default_updates\u001b[39m=\u001b[39;49mno_default_updates,\n\u001b[1;32m    322\u001b[0m         accept_inplace\u001b[39m=\u001b[39;49maccept_inplace,\n\u001b[1;32m    323\u001b[0m         name\u001b[39m=\u001b[39;49mname,\n\u001b[1;32m    324\u001b[0m         rebuild_strict\u001b[39m=\u001b[39;49mrebuild_strict,\n\u001b[1;32m    325\u001b[0m         allow_input_downcast\u001b[39m=\u001b[39;49mallow_input_downcast,\n\u001b[1;32m    326\u001b[0m         on_unused_input\u001b[39m=\u001b[39;49mon_unused_input,\n\u001b[1;32m    327\u001b[0m         profile\u001b[39m=\u001b[39;49mprofile,\n\u001b[1;32m    328\u001b[0m         output_keys\u001b[39m=\u001b[39;49moutput_keys,\n\u001b[1;32m    329\u001b[0m     )\n\u001b[1;32m    330\u001b[0m \u001b[39mreturn\u001b[39;00m fn\n",
      "File \u001b[0;32m~/miniconda3/envs/pymc_env/lib/python3.11/site-packages/pytensor/compile/function/pfunc.py:367\u001b[0m, in \u001b[0;36mpfunc\u001b[0;34m(params, outputs, mode, updates, givens, no_default_updates, accept_inplace, name, rebuild_strict, allow_input_downcast, profile, on_unused_input, output_keys, fgraph)\u001b[0m\n\u001b[1;32m    353\u001b[0m     profile \u001b[39m=\u001b[39m ProfileStats(message\u001b[39m=\u001b[39mprofile)\n\u001b[1;32m    355\u001b[0m inputs, cloned_outputs \u001b[39m=\u001b[39m construct_pfunc_ins_and_outs(\n\u001b[1;32m    356\u001b[0m     params,\n\u001b[1;32m    357\u001b[0m     outputs,\n\u001b[0;32m   (...)\u001b[0m\n\u001b[1;32m    364\u001b[0m     fgraph\u001b[39m=\u001b[39mfgraph,\n\u001b[1;32m    365\u001b[0m )\n\u001b[0;32m--> 367\u001b[0m \u001b[39mreturn\u001b[39;00m orig_function(\n\u001b[1;32m    368\u001b[0m     inputs,\n\u001b[1;32m    369\u001b[0m     cloned_outputs,\n\u001b[1;32m    370\u001b[0m     mode,\n\u001b[1;32m    371\u001b[0m     accept_inplace\u001b[39m=\u001b[39;49maccept_inplace,\n\u001b[1;32m    372\u001b[0m     name\u001b[39m=\u001b[39;49mname,\n\u001b[1;32m    373\u001b[0m     profile\u001b[39m=\u001b[39;49mprofile,\n\u001b[1;32m    374\u001b[0m     on_unused_input\u001b[39m=\u001b[39;49mon_unused_input,\n\u001b[1;32m    375\u001b[0m     output_keys\u001b[39m=\u001b[39;49moutput_keys,\n\u001b[1;32m    376\u001b[0m     fgraph\u001b[39m=\u001b[39;49mfgraph,\n\u001b[1;32m    377\u001b[0m )\n",
      "File \u001b[0;32m~/miniconda3/envs/pymc_env/lib/python3.11/site-packages/pytensor/compile/function/types.py:1744\u001b[0m, in \u001b[0;36morig_function\u001b[0;34m(inputs, outputs, mode, accept_inplace, name, profile, on_unused_input, output_keys, fgraph)\u001b[0m\n\u001b[1;32m   1742\u001b[0m \u001b[39mtry\u001b[39;00m:\n\u001b[1;32m   1743\u001b[0m     Maker \u001b[39m=\u001b[39m \u001b[39mgetattr\u001b[39m(mode, \u001b[39m\"\u001b[39m\u001b[39mfunction_maker\u001b[39m\u001b[39m\"\u001b[39m, FunctionMaker)\n\u001b[0;32m-> 1744\u001b[0m     m \u001b[39m=\u001b[39m Maker(\n\u001b[1;32m   1745\u001b[0m         inputs,\n\u001b[1;32m   1746\u001b[0m         outputs,\n\u001b[1;32m   1747\u001b[0m         mode,\n\u001b[1;32m   1748\u001b[0m         accept_inplace\u001b[39m=\u001b[39;49maccept_inplace,\n\u001b[1;32m   1749\u001b[0m         profile\u001b[39m=\u001b[39;49mprofile,\n\u001b[1;32m   1750\u001b[0m         on_unused_input\u001b[39m=\u001b[39;49mon_unused_input,\n\u001b[1;32m   1751\u001b[0m         output_keys\u001b[39m=\u001b[39;49moutput_keys,\n\u001b[1;32m   1752\u001b[0m         name\u001b[39m=\u001b[39;49mname,\n\u001b[1;32m   1753\u001b[0m         fgraph\u001b[39m=\u001b[39;49mfgraph,\n\u001b[1;32m   1754\u001b[0m     )\n\u001b[1;32m   1755\u001b[0m     \u001b[39mwith\u001b[39;00m config\u001b[39m.\u001b[39mchange_flags(compute_test_value\u001b[39m=\u001b[39m\u001b[39m\"\u001b[39m\u001b[39moff\u001b[39m\u001b[39m\"\u001b[39m):\n\u001b[1;32m   1756\u001b[0m         fn \u001b[39m=\u001b[39m m\u001b[39m.\u001b[39mcreate(defaults)\n",
      "File \u001b[0;32m~/miniconda3/envs/pymc_env/lib/python3.11/site-packages/pytensor/compile/function/types.py:1518\u001b[0m, in \u001b[0;36mFunctionMaker.__init__\u001b[0;34m(self, inputs, outputs, mode, accept_inplace, function_builder, profile, on_unused_input, fgraph, output_keys, name, no_fgraph_prep)\u001b[0m\n\u001b[1;32m   1515\u001b[0m \u001b[39mself\u001b[39m\u001b[39m.\u001b[39mfgraph \u001b[39m=\u001b[39m fgraph\n\u001b[1;32m   1517\u001b[0m \u001b[39mif\u001b[39;00m \u001b[39mnot\u001b[39;00m no_fgraph_prep:\n\u001b[0;32m-> 1518\u001b[0m     \u001b[39mself\u001b[39;49m\u001b[39m.\u001b[39;49mprepare_fgraph(inputs, outputs, found_updates, fgraph, mode, profile)\n\u001b[1;32m   1520\u001b[0m \u001b[39massert\u001b[39;00m \u001b[39mlen\u001b[39m(fgraph\u001b[39m.\u001b[39moutputs) \u001b[39m==\u001b[39m \u001b[39mlen\u001b[39m(outputs \u001b[39m+\u001b[39m found_updates)\n\u001b[1;32m   1522\u001b[0m \u001b[39m# The 'no_borrow' outputs are the ones for which that we can't\u001b[39;00m\n\u001b[1;32m   1523\u001b[0m \u001b[39m# return the internal storage pointer.\u001b[39;00m\n",
      "File \u001b[0;32m~/miniconda3/envs/pymc_env/lib/python3.11/site-packages/pytensor/compile/function/types.py:1398\u001b[0m, in \u001b[0;36mFunctionMaker.prepare_fgraph\u001b[0;34m(inputs, outputs, additional_outputs, fgraph, mode, profile)\u001b[0m\n\u001b[1;32m   1389\u001b[0m \u001b[39m@staticmethod\u001b[39m\n\u001b[1;32m   1390\u001b[0m \u001b[39mdef\u001b[39;00m \u001b[39mprepare_fgraph\u001b[39m(\n\u001b[1;32m   1391\u001b[0m     inputs,\n\u001b[0;32m   (...)\u001b[0m\n\u001b[1;32m   1396\u001b[0m     profile,\n\u001b[1;32m   1397\u001b[0m ):\n\u001b[0;32m-> 1398\u001b[0m     rewriter \u001b[39m=\u001b[39m mode\u001b[39m.\u001b[39;49moptimizer\n\u001b[1;32m   1400\u001b[0m     \u001b[39mtry\u001b[39;00m:\n\u001b[1;32m   1401\u001b[0m         start_rewriter \u001b[39m=\u001b[39m time\u001b[39m.\u001b[39mperf_counter()\n",
      "File \u001b[0;32m~/miniconda3/envs/pymc_env/lib/python3.11/site-packages/pytensor/compile/mode.py:361\u001b[0m, in \u001b[0;36mMode.__get_optimizer\u001b[0;34m(self)\u001b[0m\n\u001b[1;32m    359\u001b[0m \u001b[39mdef\u001b[39;00m \u001b[39m__get_optimizer\u001b[39m(\u001b[39mself\u001b[39m):\n\u001b[1;32m    360\u001b[0m     \u001b[39mif\u001b[39;00m \u001b[39misinstance\u001b[39m(\u001b[39mself\u001b[39m\u001b[39m.\u001b[39m_optimizer, RewriteDatabaseQuery):\n\u001b[0;32m--> 361\u001b[0m         \u001b[39mreturn\u001b[39;00m \u001b[39mself\u001b[39;49m\u001b[39m.\u001b[39;49moptdb\u001b[39m.\u001b[39;49mquery(\u001b[39mself\u001b[39;49m\u001b[39m.\u001b[39;49m_optimizer)\n\u001b[1;32m    362\u001b[0m     \u001b[39melse\u001b[39;00m:\n\u001b[1;32m    363\u001b[0m         \u001b[39mreturn\u001b[39;00m \u001b[39mself\u001b[39m\u001b[39m.\u001b[39m_optimizer\n",
      "File \u001b[0;32m~/miniconda3/envs/pymc_env/lib/python3.11/site-packages/pytensor/graph/rewriting/db.py:416\u001b[0m, in \u001b[0;36mSequenceDB.query\u001b[0;34m(self, position_cutoff, *tags, **kwtags)\u001b[0m\n\u001b[1;32m    405\u001b[0m \u001b[39mdef\u001b[39;00m \u001b[39mquery\u001b[39m(\n\u001b[1;32m    406\u001b[0m     \u001b[39mself\u001b[39m, \u001b[39m*\u001b[39mtags, position_cutoff: Optional[Union[\u001b[39mint\u001b[39m, \u001b[39mfloat\u001b[39m]] \u001b[39m=\u001b[39m \u001b[39mNone\u001b[39;00m, \u001b[39m*\u001b[39m\u001b[39m*\u001b[39mkwtags\n\u001b[1;32m    407\u001b[0m ):\n\u001b[1;32m    408\u001b[0m \u001b[39m    \u001b[39m\u001b[39m\"\"\"\u001b[39;00m\n\u001b[1;32m    409\u001b[0m \n\u001b[1;32m    410\u001b[0m \u001b[39m    Parameters\u001b[39;00m\n\u001b[0;32m   (...)\u001b[0m\n\u001b[1;32m    414\u001b[0m \n\u001b[1;32m    415\u001b[0m \u001b[39m    \"\"\"\u001b[39;00m\n\u001b[0;32m--> 416\u001b[0m     rewrites \u001b[39m=\u001b[39m \u001b[39msuper\u001b[39;49m()\u001b[39m.\u001b[39;49mquery(\u001b[39m*\u001b[39;49mtags, \u001b[39m*\u001b[39;49m\u001b[39m*\u001b[39;49mkwtags)\n\u001b[1;32m    418\u001b[0m     \u001b[39mif\u001b[39;00m position_cutoff \u001b[39mis\u001b[39;00m \u001b[39mNone\u001b[39;00m:\n\u001b[1;32m    419\u001b[0m         position_cutoff \u001b[39m=\u001b[39m config\u001b[39m.\u001b[39moptdb__position_cutoff\n",
      "File \u001b[0;32m~/miniconda3/envs/pymc_env/lib/python3.11/site-packages/pytensor/graph/rewriting/db.py:147\u001b[0m, in \u001b[0;36mRewriteDatabase.query\u001b[0;34m(self, *tags, **kwtags)\u001b[0m\n\u001b[1;32m    142\u001b[0m     \u001b[39mif\u001b[39;00m \u001b[39mlen\u001b[39m(tags) \u001b[39m>\u001b[39m \u001b[39m1\u001b[39m \u001b[39mor\u001b[39;00m kwtags:\n\u001b[1;32m    143\u001b[0m         \u001b[39mraise\u001b[39;00m \u001b[39mTypeError\u001b[39;00m(\n\u001b[1;32m    144\u001b[0m             \u001b[39m\"\u001b[39m\u001b[39mIf the first argument to query is an `RewriteDatabaseQuery`,\u001b[39m\u001b[39m\"\u001b[39m\n\u001b[1;32m    145\u001b[0m             \u001b[39m\"\u001b[39m\u001b[39m there should be no other arguments.\u001b[39m\u001b[39m\"\u001b[39m\n\u001b[1;32m    146\u001b[0m         )\n\u001b[0;32m--> 147\u001b[0m     \u001b[39mreturn\u001b[39;00m \u001b[39mself\u001b[39;49m\u001b[39m.\u001b[39;49m__query__(tags[\u001b[39m0\u001b[39;49m])\n\u001b[1;32m    148\u001b[0m include \u001b[39m=\u001b[39m [tag[\u001b[39m1\u001b[39m:] \u001b[39mfor\u001b[39;00m tag \u001b[39min\u001b[39;00m tags \u001b[39mif\u001b[39;00m tag\u001b[39m.\u001b[39mstartswith(\u001b[39m\"\u001b[39m\u001b[39m+\u001b[39m\u001b[39m\"\u001b[39m)]\n\u001b[1;32m    149\u001b[0m require \u001b[39m=\u001b[39m [tag[\u001b[39m1\u001b[39m:] \u001b[39mfor\u001b[39;00m tag \u001b[39min\u001b[39;00m tags \u001b[39mif\u001b[39;00m tag\u001b[39m.\u001b[39mstartswith(\u001b[39m\"\u001b[39m\u001b[39m&\u001b[39m\u001b[39m\"\u001b[39m)]\n",
      "File \u001b[0;32m~/miniconda3/envs/pymc_env/lib/python3.11/site-packages/pytensor/graph/rewriting/db.py:132\u001b[0m, in \u001b[0;36mRewriteDatabase.__query__\u001b[0;34m(self, q)\u001b[0m\n\u001b[1;32m    129\u001b[0m     def_sub_query\u001b[39m.\u001b[39mextra_rewrites \u001b[39m=\u001b[39m []\n\u001b[1;32m    130\u001b[0m sq \u001b[39m=\u001b[39m q\u001b[39m.\u001b[39msubquery\u001b[39m.\u001b[39mget(obj\u001b[39m.\u001b[39mname, def_sub_query)\n\u001b[0;32m--> 132\u001b[0m replacement \u001b[39m=\u001b[39m obj\u001b[39m.\u001b[39;49mquery(sq)\n\u001b[1;32m    133\u001b[0m replacement\u001b[39m.\u001b[39mname \u001b[39m=\u001b[39m obj\u001b[39m.\u001b[39mname\n\u001b[1;32m    134\u001b[0m remove\u001b[39m.\u001b[39madd(obj)\n",
      "File \u001b[0;32m~/miniconda3/envs/pymc_env/lib/python3.11/site-packages/pytensor/graph/rewriting/db.py:344\u001b[0m, in \u001b[0;36mEquilibriumDB.query\u001b[0;34m(self, *tags, **kwtags)\u001b[0m\n\u001b[1;32m    343\u001b[0m \u001b[39mdef\u001b[39;00m \u001b[39mquery\u001b[39m(\u001b[39mself\u001b[39m, \u001b[39m*\u001b[39mtags, \u001b[39m*\u001b[39m\u001b[39m*\u001b[39mkwtags):\n\u001b[0;32m--> 344\u001b[0m     _rewriters \u001b[39m=\u001b[39m \u001b[39msuper\u001b[39;49m()\u001b[39m.\u001b[39;49mquery(\u001b[39m*\u001b[39;49mtags, \u001b[39m*\u001b[39;49m\u001b[39m*\u001b[39;49mkwtags)\n\u001b[1;32m    345\u001b[0m     final_rewriters \u001b[39m=\u001b[39m [o \u001b[39mfor\u001b[39;00m o \u001b[39min\u001b[39;00m _rewriters \u001b[39mif\u001b[39;00m \u001b[39mself\u001b[39m\u001b[39m.\u001b[39m__final__\u001b[39m.\u001b[39mget(o\u001b[39m.\u001b[39mname, \u001b[39mFalse\u001b[39;00m)]\n\u001b[1;32m    346\u001b[0m     cleanup_rewriters \u001b[39m=\u001b[39m [\n\u001b[1;32m    347\u001b[0m         o \u001b[39mfor\u001b[39;00m o \u001b[39min\u001b[39;00m _rewriters \u001b[39mif\u001b[39;00m \u001b[39mself\u001b[39m\u001b[39m.\u001b[39m__cleanup__\u001b[39m.\u001b[39mget(o\u001b[39m.\u001b[39mname, \u001b[39mFalse\u001b[39;00m)\n\u001b[1;32m    348\u001b[0m     ]\n",
      "File \u001b[0;32m~/miniconda3/envs/pymc_env/lib/python3.11/site-packages/pytensor/graph/rewriting/db.py:147\u001b[0m, in \u001b[0;36mRewriteDatabase.query\u001b[0;34m(self, *tags, **kwtags)\u001b[0m\n\u001b[1;32m    142\u001b[0m     \u001b[39mif\u001b[39;00m \u001b[39mlen\u001b[39m(tags) \u001b[39m>\u001b[39m \u001b[39m1\u001b[39m \u001b[39mor\u001b[39;00m kwtags:\n\u001b[1;32m    143\u001b[0m         \u001b[39mraise\u001b[39;00m \u001b[39mTypeError\u001b[39;00m(\n\u001b[1;32m    144\u001b[0m             \u001b[39m\"\u001b[39m\u001b[39mIf the first argument to query is an `RewriteDatabaseQuery`,\u001b[39m\u001b[39m\"\u001b[39m\n\u001b[1;32m    145\u001b[0m             \u001b[39m\"\u001b[39m\u001b[39m there should be no other arguments.\u001b[39m\u001b[39m\"\u001b[39m\n\u001b[1;32m    146\u001b[0m         )\n\u001b[0;32m--> 147\u001b[0m     \u001b[39mreturn\u001b[39;00m \u001b[39mself\u001b[39;49m\u001b[39m.\u001b[39;49m__query__(tags[\u001b[39m0\u001b[39;49m])\n\u001b[1;32m    148\u001b[0m include \u001b[39m=\u001b[39m [tag[\u001b[39m1\u001b[39m:] \u001b[39mfor\u001b[39;00m tag \u001b[39min\u001b[39;00m tags \u001b[39mif\u001b[39;00m tag\u001b[39m.\u001b[39mstartswith(\u001b[39m\"\u001b[39m\u001b[39m+\u001b[39m\u001b[39m\"\u001b[39m)]\n\u001b[1;32m    149\u001b[0m require \u001b[39m=\u001b[39m [tag[\u001b[39m1\u001b[39m:] \u001b[39mfor\u001b[39;00m tag \u001b[39min\u001b[39;00m tags \u001b[39mif\u001b[39;00m tag\u001b[39m.\u001b[39mstartswith(\u001b[39m\"\u001b[39m\u001b[39m&\u001b[39m\u001b[39m\"\u001b[39m)]\n",
      "File \u001b[0;32m~/miniconda3/envs/pymc_env/lib/python3.11/site-packages/pytensor/graph/rewriting/db.py:117\u001b[0m, in \u001b[0;36mRewriteDatabase.__query__\u001b[0;34m(self, q)\u001b[0m\n\u001b[1;32m    115\u001b[0m variables \u001b[39m=\u001b[39m OrderedSet()\n\u001b[1;32m    116\u001b[0m \u001b[39mfor\u001b[39;00m tag \u001b[39min\u001b[39;00m q\u001b[39m.\u001b[39minclude:\n\u001b[0;32m--> 117\u001b[0m     variables\u001b[39m.\u001b[39;49mupdate(\u001b[39mself\u001b[39;49m\u001b[39m.\u001b[39;49m__db__[tag])\n\u001b[1;32m    118\u001b[0m \u001b[39mfor\u001b[39;00m tag \u001b[39min\u001b[39;00m q\u001b[39m.\u001b[39mrequire:\n\u001b[1;32m    119\u001b[0m     variables\u001b[39m.\u001b[39mintersection_update(\u001b[39mself\u001b[39m\u001b[39m.\u001b[39m__db__[tag])\n",
      "File \u001b[0;32m~/miniconda3/envs/pymc_env/lib/python3.11/site-packages/pytensor/misc/ordered_set.py:83\u001b[0m, in \u001b[0;36mOrderedSet.update\u001b[0;34m(self, iterable)\u001b[0m\n\u001b[1;32m     81\u001b[0m \u001b[39mdef\u001b[39;00m \u001b[39mupdate\u001b[39m(\u001b[39mself\u001b[39m, iterable):\n\u001b[1;32m     82\u001b[0m     check_deterministic(iterable)\n\u001b[0;32m---> 83\u001b[0m     \u001b[39mself\u001b[39;49m \u001b[39m|\u001b[39;49m\u001b[39m=\u001b[39;49m iterable\n",
      "File \u001b[0;32m<frozen _collections_abc>:719\u001b[0m, in \u001b[0;36m__ior__\u001b[0;34m(self, it)\u001b[0m\n",
      "File \u001b[0;32m~/miniconda3/envs/pymc_env/lib/python3.11/site-packages/pytensor/misc/ordered_set.py:103\u001b[0m, in \u001b[0;36mOrderedSet.add\u001b[0;34m(self, key)\u001b[0m\n\u001b[1;32m    100\u001b[0m \u001b[39mdef\u001b[39;00m \u001b[39madd\u001b[39m(\u001b[39mself\u001b[39m, key):\n\u001b[1;32m    101\u001b[0m     \u001b[39m# Store new key in a new link at the end of the linked list\u001b[39;00m\n\u001b[1;32m    102\u001b[0m     \u001b[39mif\u001b[39;00m key \u001b[39mnot\u001b[39;00m \u001b[39min\u001b[39;00m \u001b[39mself\u001b[39m\u001b[39m.\u001b[39m__map:\n\u001b[0;32m--> 103\u001b[0m         \u001b[39mself\u001b[39m\u001b[39m.\u001b[39m__map[key] \u001b[39m=\u001b[39m link \u001b[39m=\u001b[39m Link()\n\u001b[1;32m    104\u001b[0m         root \u001b[39m=\u001b[39m \u001b[39mself\u001b[39m\u001b[39m.\u001b[39m__root\n\u001b[1;32m    105\u001b[0m         last \u001b[39m=\u001b[39m root\u001b[39m.\u001b[39mprev\n",
      "\u001b[0;31mKeyboardInterrupt\u001b[0m: "
     ]
    }
   ],
   "source": [
    "score = 'Accuracy'\n",
    "\n",
    "# get predictive distributions\n",
    "prior_predictive, posterior_predictive, trace = post_likelihoods(obs, score)\n",
    "#draw samples\n",
    "draws = posterior_predictive['posterior_predictive'].observed.to_numpy().flatten()\n",
    "\n",
    "# get 95% credible interval\n",
    "hdi95 = az.hdi(draws, 0.95)\n",
    "lower = hdi95[0]\n",
    "upper = hdi95[1]"
   ]
  },
  {
   "cell_type": "code",
   "execution_count": 79,
   "metadata": {},
   "outputs": [
    {
     "data": {
      "image/png": "[encoded data removed]",
      "text/plain": [
       "<Figure size 640x480 with 1 Axes>"
      ]
     },
     "metadata": {},
     "output_type": "display_data"
    }
   ],
   "source": [
    "fig, ax = plt.subplots(1, 1)\n",
    "ax.hist(\n",
    "    draws,\n",
    "    edgecolor='k',\n",
    "    facecolor='grey',\n",
    "    alpha=0.8);\n",
    "\n",
    "for i, row in df.iterrows():\n",
    "    ax.axvline(\n",
    "        row.Accuracy,\n",
    "        c='lime',\n",
    "        alpha=0.7,\n",
    "        ymax = 0.25,\n",
    "        linestyle = \":\");\n",
    "\n",
    "x = df[df.tile == '10TEK0503244655'].Accuracy.values[0]\n",
    "\n",
    "ax.annotate('10TEK0503244655',\n",
    "            xy=(x, 0.25),\n",
    "            xycoords=('data', 'axes fraction'),\n",
    "            xytext=(0.44, 0.4),\n",
    "            textcoords='axes fraction',\n",
    "            arrowprops=dict(arrowstyle=\"->\",)\n",
    "            );\n",
    "\n",
    "ax.set_title('Accuracy');\n",
    "ax.grid(visible=False)\n",
    "ax.set_ylabel('count');\n",
    "ax.axvline(x=lower, c='magenta');\n",
    "ax.axvline(x=upper, c='magenta');\n",
    "\n",
    "plt.savefig(img_dir / 'accuracy_hdi.png')\n"
   ]
  },
  {
   "cell_type": "code",
   "execution_count": 80,
   "metadata": {},
   "outputs": [
    {
     "ename": "NameError",
     "evalue": "name 'trace' is not defined",
     "output_type": "error",
     "traceback": [
      "\u001b[0;31m---------------------------------------------------------------------------\u001b[0m",
      "\u001b[0;31mNameError\u001b[0m                                 Traceback (most recent call last)",
      "Cell \u001b[0;32mIn[80], line 1\u001b[0m\n\u001b[0;32m----> 1\u001b[0m az\u001b[39m.\u001b[39mplot_trace(trace\u001b[39m.\u001b[39mposterior)\n",
      "\u001b[0;31mNameError\u001b[0m: name 'trace' is not defined"
     ]
    }
   ],
   "source": [
    "az.plot_trace(trace.posterior)"
   ]
  },
  {
   "cell_type": "code",
   "execution_count": null,
   "metadata": {},
   "outputs": [],
   "source": []
  }
 ],
 "metadata": {
  "kernelspec": {
   "display_name": "pymc_env",
   "language": "python",
   "name": "python3"
  },
  "language_info": {
   "codemirror_mode": {
    "name": "ipython",
    "version": 3
   },
   "file_extension": ".py",
   "mimetype": "text/x-python",
   "name": "python",
   "nbconvert_exporter": "python",
   "pygments_lexer": "ipython3",
   "version": "3.11.3"
  },
  "orig_nbformat": 4
 },
 "nbformat": 4,
 "nbformat_minor": 2
}

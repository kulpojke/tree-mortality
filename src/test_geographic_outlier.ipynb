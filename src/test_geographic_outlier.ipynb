{
 "cells": [
  {
   "cell_type": "markdown",
   "metadata": {},
   "source": [
    "# Tests for significance of difference between 0TEK0503244655 scores and all others"
   ]
  },
  {
   "cell_type": "code",
   "execution_count": 1,
   "metadata": {},
   "outputs": [],
   "source": [
    "import pymc as pm\n",
    "import numpy as np\n",
    "import pandas as pd"
   ]
  },
  {
   "cell_type": "markdown",
   "metadata": {},
   "source": [
    "Load data into dataframe."
   ]
  },
  {
   "cell_type": "code",
   "execution_count": 2,
   "metadata": {},
   "outputs": [
    {
     "data": {
      "text/html": [
       "<div>\n",
       "<style scoped>\n",
       "    .dataframe tbody tr th:only-of-type {\n",
       "        vertical-align: middle;\n",
       "    }\n",
       "\n",
       "    .dataframe tbody tr th {\n",
       "        vertical-align: top;\n",
       "    }\n",
       "\n",
       "    .dataframe thead th {\n",
       "        text-align: right;\n",
       "    }\n",
       "</style>\n",
       "<table border=\"1\" class=\"dataframe\">\n",
       "  <thead>\n",
       "    <tr style=\"text-align: right;\">\n",
       "      <th></th>\n",
       "      <th>tile</th>\n",
       "      <th>year</th>\n",
       "      <th>ROC AUC</th>\n",
       "      <th>Accuracy</th>\n",
       "      <th>Log Loss</th>\n",
       "    </tr>\n",
       "  </thead>\n",
       "  <tbody>\n",
       "    <tr>\n",
       "      <th>0</th>\n",
       "      <td>10TEL0509245547</td>\n",
       "      <td>2022</td>\n",
       "      <td>0.9714</td>\n",
       "      <td>0.9315</td>\n",
       "      <td>0.3583</td>\n",
       "    </tr>\n",
       "    <tr>\n",
       "      <th>1</th>\n",
       "      <td>10TDL0458245240</td>\n",
       "      <td>2022</td>\n",
       "      <td>0.9953</td>\n",
       "      <td>0.9836</td>\n",
       "      <td>0.1878</td>\n",
       "    </tr>\n",
       "    <tr>\n",
       "      <th>2</th>\n",
       "      <td>10TEK0503244655</td>\n",
       "      <td>2022</td>\n",
       "      <td>0.9156</td>\n",
       "      <td>0.8444</td>\n",
       "      <td>0.7774</td>\n",
       "    </tr>\n",
       "    <tr>\n",
       "      <th>3</th>\n",
       "      <td>10TDL0464245187</td>\n",
       "      <td>2022</td>\n",
       "      <td>0.9959</td>\n",
       "      <td>0.9858</td>\n",
       "      <td>0.0598</td>\n",
       "    </tr>\n",
       "    <tr>\n",
       "      <th>4</th>\n",
       "      <td>10TDL0480045075</td>\n",
       "      <td>2020</td>\n",
       "      <td>0.9833</td>\n",
       "      <td>0.9976</td>\n",
       "      <td>0.0499</td>\n",
       "    </tr>\n",
       "    <tr>\n",
       "      <th>5</th>\n",
       "      <td>10TDL0480045075</td>\n",
       "      <td>2022</td>\n",
       "      <td>0.9977</td>\n",
       "      <td>0.9820</td>\n",
       "      <td>0.1009</td>\n",
       "    </tr>\n",
       "    <tr>\n",
       "      <th>6</th>\n",
       "      <td>10TDL0480045075</td>\n",
       "      <td>2018</td>\n",
       "      <td>NaN</td>\n",
       "      <td>0.9451</td>\n",
       "      <td>NaN</td>\n",
       "    </tr>\n",
       "    <tr>\n",
       "      <th>7</th>\n",
       "      <td>10TEK0500244992</td>\n",
       "      <td>2022</td>\n",
       "      <td>0.9996</td>\n",
       "      <td>0.9887</td>\n",
       "      <td>0.0503</td>\n",
       "    </tr>\n",
       "    <tr>\n",
       "      <th>8</th>\n",
       "      <td>10TDL0488245360</td>\n",
       "      <td>2022</td>\n",
       "      <td>0.9990</td>\n",
       "      <td>0.9859</td>\n",
       "      <td>0.1460</td>\n",
       "    </tr>\n",
       "  </tbody>\n",
       "</table>\n",
       "</div>"
      ],
      "text/plain": [
       "              tile  year  ROC AUC  Accuracy  Log Loss\n",
       "0  10TEL0509245547  2022   0.9714    0.9315    0.3583\n",
       "1  10TDL0458245240  2022   0.9953    0.9836    0.1878\n",
       "2  10TEK0503244655  2022   0.9156    0.8444    0.7774\n",
       "3  10TDL0464245187  2022   0.9959    0.9858    0.0598\n",
       "4  10TDL0480045075  2020   0.9833    0.9976    0.0499\n",
       "5  10TDL0480045075  2022   0.9977    0.9820    0.1009\n",
       "6  10TDL0480045075  2018      NaN    0.9451       NaN\n",
       "7  10TEK0500244992  2022   0.9996    0.9887    0.0503\n",
       "8  10TDL0488245360  2022   0.9990    0.9859    0.1460"
      ]
     },
     "execution_count": 2,
     "metadata": {},
     "output_type": "execute_result"
    }
   ],
   "source": [
    "data = [\n",
    "    {'tile': '10TEL0509245547', 'year': 2022, 'ROC AUC': 0.9714, 'Accuracy': 0.9315, 'Log Loss': 0.3583},\n",
    "    {'tile': '10TDL0458245240', 'year': 2022, 'ROC AUC': 0.9953, 'Accuracy': 0.9836, 'Log Loss': 0.1878},\n",
    "    {'tile': '10TEK0503244655', 'year': 2022, 'ROC AUC': 0.9156, 'Accuracy': 0.8444, 'Log Loss': 0.7774},\n",
    "    {'tile': '10TDL0464245187', 'year': 2022, 'ROC AUC': 0.9959, 'Accuracy': 0.9858, 'Log Loss': 0.0598},\n",
    "    {'tile': '10TDL0480045075', 'year': 2020, 'ROC AUC': 0.9833, 'Accuracy': 0.9976, 'Log Loss': 0.0499},\n",
    "    {'tile': '10TDL0480045075', 'year': 2022, 'ROC AUC': 0.9977, 'Accuracy': 0.9820, 'Log Loss': 0.1009},\n",
    "    {'tile': '10TDL0480045075', 'year': 2018, 'ROC AUC': None,  'Accuracy': 0.9451, 'Log Loss': None},\n",
    "    {'tile': '10TEK0500244992', 'year': 2022, 'ROC AUC': 0.9996, 'Accuracy': 0.9887, 'Log Loss': 0.0503},\n",
    "    {'tile': '10TDL0488245360', 'year': 2022, 'ROC AUC': 0.9990, 'Accuracy': 0.9859, 'Log Loss': 0.1460},\n",
    "]\n",
    "\n",
    "df = pd.DataFrame.from_dict(data)\n",
    "df\n"
   ]
  },
  {
   "cell_type": "markdown",
   "metadata": {},
   "source": [
    "### Test ROC AUC\n",
    "Observe that the few pieces of data we have do not apear to be normally distributed."
   ]
  },
  {
   "cell_type": "code",
   "execution_count": 22,
   "metadata": {},
   "outputs": [
    {
     "data": {
      "image/png": "[encoded data removed]",
      "text/plain": [
       "<Figure size 640x480 with 1 Axes>"
      ]
     },
     "metadata": {},
     "output_type": "display_data"
    }
   ],
   "source": [
    "df[df.tile != '10TEK0503244655']['ROC AUC'].hist();"
   ]
  },
  {
   "cell_type": "markdown",
   "metadata": {},
   "source": [
    "Get the ROC AUC values for all tiles other than 10TEK0503244655 (dropping 10TDL0480045075, since it is NA)"
   ]
  },
  {
   "cell_type": "code",
   "execution_count": 8,
   "metadata": {},
   "outputs": [
    {
     "data": {
      "text/plain": [
       "array([0.9714, 0.9953, 0.9959, 0.9833, 0.9977, 0.9996, 0.999 ])"
      ]
     },
     "execution_count": 8,
     "metadata": {},
     "output_type": "execute_result"
    }
   ],
   "source": [
    "# ROC AUC data, excluding 10TEK0503244655\n",
    "data_roc_auc = df[df.tile != '10TEK0503244655']['ROC AUC'].dropna().values\n",
    "data_roc_auc"
   ]
  },
  {
   "cell_type": "markdown",
   "metadata": {},
   "source": [
    "Calculate Robust Z-Score.  If the absolute value of the score is much more than 1, one would think of the value as an outlier.\n",
    "\n",
    "Huber, Peter J., and E. M. Ronchetti. _Robust statistics. 2nd john wiley & sons._ Hoboken, NJ 2 (2009)."
   ]
  },
  {
   "cell_type": "code",
   "execution_count": 9,
   "metadata": {},
   "outputs": [
    {
     "name": "stdout",
     "output_type": "stream",
     "text": [
      "Robust Z-score: -17.47172580645167\n"
     ]
    }
   ],
   "source": [
    "data = data_roc_auc\n",
    "\n",
    "#  Median Absolute Deviation (MAD)\n",
    "median_value = np.median(data)\n",
    "mad_value = np.median(np.abs(data - median_value))\n",
    "\n",
    "# 10TEK0503244655 ROC AUC\n",
    "target_value = 0.9156\n",
    "\n",
    "#robust Z-score \n",
    "robust_z_score = 0.6745 * (target_value - median_value) / mad_value\n",
    "\n",
    "print(\"Robust Z-score:\", robust_z_score)"
   ]
  },
  {
   "cell_type": "markdown",
   "metadata": {},
   "source": [
    "The score strongly suggests it's an outlier!  The score for 10TEK0503244655 is more than 17 times the median absolute deviation (MAD) below the central tendency, as measured by the median.\n",
    "\n",
    "Now let's do a Bayesian test (even though it is not normal, we will use a normal distribution in this case.  It is possible the distribution would be normal with more data, so we will test that case.)"
   ]
  },
  {
   "cell_type": "code",
   "execution_count": 10,
   "metadata": {},
   "outputs": [
    {
     "name": "stderr",
     "output_type": "stream",
     "text": [
      "Auto-assigning NUTS sampler...\n",
      "Initializing NUTS using jitter+adapt_diag...\n",
      "Multiprocess sampling (4 chains in 4 jobs)\n",
      "NUTS: [mu, sigma]\n"
     ]
    },
    {
     "data": {
      "text/html": [
       "\n",
       "<style>\n",
       "    /* Turns off some styling */\n",
       "    progress {\n",
       "        /* gets rid of default border in Firefox and Opera. */\n",
       "        border: none;\n",
       "        /* Needs to be in here for Safari polyfill so background images work as expected. */\n",
       "        background-size: auto;\n",
       "    }\n",
       "    progress:not([value]), progress:not([value])::-webkit-progress-bar {\n",
       "        background: repeating-linear-gradient(45deg, #7e7e7e, #7e7e7e 10px, #5c5c5c 10px, #5c5c5c 20px);\n",
       "    }\n",
       "    .progress-bar-interrupted, .progress-bar-interrupted::-webkit-progress-bar {\n",
       "        background: #F44336;\n",
       "    }\n",
       "</style>\n"
      ],
      "text/plain": [
       "<IPython.core.display.HTML object>"
      ]
     },
     "metadata": {},
     "output_type": "display_data"
    },
    {
     "data": {
      "text/html": [
       "\n",
       "    <div>\n",
       "      <progress value='24000' class='' max='24000' style='width:300px; height:20px; vertical-align: middle;'></progress>\n",
       "      100.00% [24000/24000 00:05&lt;00:00 Sampling 4 chains, 42 divergences]\n",
       "    </div>\n",
       "    "
      ],
      "text/plain": [
       "<IPython.core.display.HTML object>"
      ]
     },
     "metadata": {},
     "output_type": "display_data"
    },
    {
     "name": "stderr",
     "output_type": "stream",
     "text": [
      "Sampling 4 chains for 1_000 tune and 5_000 draw iterations (4_000 + 20_000 draws total) took 5 seconds.\n",
      "/home/michael/miniconda3/envs/pymc_env/lib/python3.11/site-packages/arviz/utils.py:184: NumbaDeprecationWarning: \u001b[1mThe 'nopython' keyword argument was not supplied to the 'numba.jit' decorator. The implicit default value for this argument is currently False, but it will be changed to True in Numba 0.59.0. See https://numba.readthedocs.io/en/stable/reference/deprecation.html#deprecation-of-object-mode-fall-back-behaviour-when-using-jit for details.\u001b[0m\n",
      "  numba_fn = numba.jit(**self.kwargs)(self.function)\n",
      "There were 42 divergences after tuning. Increase `target_accept` or reparameterize.\n",
      "Sampling: [observed]\n"
     ]
    },
    {
     "data": {
      "text/html": [
       "\n",
       "<style>\n",
       "    /* Turns off some styling */\n",
       "    progress {\n",
       "        /* gets rid of default border in Firefox and Opera. */\n",
       "        border: none;\n",
       "        /* Needs to be in here for Safari polyfill so background images work as expected. */\n",
       "        background-size: auto;\n",
       "    }\n",
       "    progress:not([value]), progress:not([value])::-webkit-progress-bar {\n",
       "        background: repeating-linear-gradient(45deg, #7e7e7e, #7e7e7e 10px, #5c5c5c 10px, #5c5c5c 20px);\n",
       "    }\n",
       "    .progress-bar-interrupted, .progress-bar-interrupted::-webkit-progress-bar {\n",
       "        background: #F44336;\n",
       "    }\n",
       "</style>\n"
      ],
      "text/plain": [
       "<IPython.core.display.HTML object>"
      ]
     },
     "metadata": {},
     "output_type": "display_data"
    },
    {
     "data": {
      "text/html": [
       "\n",
       "    <div>\n",
       "      <progress value='20000' class='' max='20000' style='width:300px; height:20px; vertical-align: middle;'></progress>\n",
       "      100.00% [20000/20000 00:00&lt;00:00]\n",
       "    </div>\n",
       "    "
      ],
      "text/plain": [
       "<IPython.core.display.HTML object>"
      ]
     },
     "metadata": {},
     "output_type": "display_data"
    }
   ],
   "source": [
    "# model\n",
    "with pm.Model() as model:\n",
    "    # Prior\n",
    "    mu = pm.Uniform('mu', lower=0, upper=1)\n",
    "    sigma = pm.HalfNormal('sigma', tau=1 / 0.1**2)\n",
    "    \n",
    "    # Likelihood\n",
    "    observed = pm.Normal('observed', mu=mu, tau=1 / sigma**2, observed=data_roc_auc)\n",
    "    \n",
    "    # Posterior\n",
    "    trace = pm.sample(5000, tune=1000)\n",
    "\n",
    "# Now we can look at the posterior predictive distribution to see how likely 0.9184 is, given the data\n",
    "with model:\n",
    "    posterior_predictive = pm.sample_posterior_predictive(trace)\n",
    "\n",
    "roc_auc_values = posterior_predictive['observed_data']\n"
   ]
  },
  {
   "cell_type": "code",
   "execution_count": 35,
   "metadata": {},
   "outputs": [
    {
     "data": {
      "text/plain": [
       "'Target is 4.16 standard deviations from the mean!'"
      ]
     },
     "execution_count": 35,
     "metadata": {},
     "output_type": "execute_result"
    }
   ],
   "source": [
    "draws = posterior_predictive['posterior_predictive'].observed.to_numpy().flatten()\n",
    "\n",
    "f'Target is {abs(target_value - draws.mean()) / draws.std():.2f} standard deviations from the mean!' "
   ]
  },
  {
   "cell_type": "markdown",
   "metadata": {},
   "source": [
    "## Test Accuracy"
   ]
  },
  {
   "cell_type": "code",
   "execution_count": 24,
   "metadata": {},
   "outputs": [
    {
     "data": {
      "image/png": "[encoded data removed]",
      "text/plain": [
       "<Figure size 640x480 with 1 Axes>"
      ]
     },
     "metadata": {},
     "output_type": "display_data"
    }
   ],
   "source": [
    "df[df.tile != '10TEK0503244655'].Accuracy.hist();"
   ]
  },
  {
   "cell_type": "code",
   "execution_count": 29,
   "metadata": {},
   "outputs": [
    {
     "name": "stdout",
     "output_type": "stream",
     "text": [
      "Robust Z-score: -28.248462686566995\n"
     ]
    }
   ],
   "source": [
    "# Accuracy data, excluding 10TEK0503244655\n",
    "data = df[df.tile != '10TEK0503244655'].Accuracy.dropna().values\n",
    "\n",
    "#  Median Absolute Deviation (MAD)\n",
    "median_value = np.median(data)\n",
    "mad_value = np.median(np.abs(data - median_value))\n",
    "\n",
    "# 10TEK0503244655 ROC AUC\n",
    "target_value = 0.8444\n",
    "\n",
    "#robust Z-score \n",
    "robust_z_score = 0.6745 * (target_value - median_value) / mad_value\n",
    "\n",
    "print(\"Robust Z-score:\", robust_z_score)\n"
   ]
  },
  {
   "cell_type": "code",
   "execution_count": 37,
   "metadata": {},
   "outputs": [
    {
     "name": "stderr",
     "output_type": "stream",
     "text": [
      "Auto-assigning NUTS sampler...\n",
      "Initializing NUTS using jitter+adapt_diag...\n",
      "Multiprocess sampling (4 chains in 4 jobs)\n",
      "NUTS: [mu, sigma]\n"
     ]
    },
    {
     "data": {
      "text/html": [
       "\n",
       "<style>\n",
       "    /* Turns off some styling */\n",
       "    progress {\n",
       "        /* gets rid of default border in Firefox and Opera. */\n",
       "        border: none;\n",
       "        /* Needs to be in here for Safari polyfill so background images work as expected. */\n",
       "        background-size: auto;\n",
       "    }\n",
       "    progress:not([value]), progress:not([value])::-webkit-progress-bar {\n",
       "        background: repeating-linear-gradient(45deg, #7e7e7e, #7e7e7e 10px, #5c5c5c 10px, #5c5c5c 20px);\n",
       "    }\n",
       "    .progress-bar-interrupted, .progress-bar-interrupted::-webkit-progress-bar {\n",
       "        background: #F44336;\n",
       "    }\n",
       "</style>\n"
      ],
      "text/plain": [
       "<IPython.core.display.HTML object>"
      ]
     },
     "metadata": {},
     "output_type": "display_data"
    },
    {
     "data": {
      "text/html": [
       "\n",
       "    <div>\n",
       "      <progress value='24000' class='' max='24000' style='width:300px; height:20px; vertical-align: middle;'></progress>\n",
       "      100.00% [24000/24000 00:05&lt;00:00 Sampling 4 chains, 4 divergences]\n",
       "    </div>\n",
       "    "
      ],
      "text/plain": [
       "<IPython.core.display.HTML object>"
      ]
     },
     "metadata": {},
     "output_type": "display_data"
    },
    {
     "name": "stderr",
     "output_type": "stream",
     "text": [
      "Sampling 4 chains for 1_000 tune and 5_000 draw iterations (4_000 + 20_000 draws total) took 5 seconds.\n",
      "There were 4 divergences after tuning. Increase `target_accept` or reparameterize.\n",
      "Sampling: [observed]\n"
     ]
    },
    {
     "data": {
      "text/html": [
       "\n",
       "<style>\n",
       "    /* Turns off some styling */\n",
       "    progress {\n",
       "        /* gets rid of default border in Firefox and Opera. */\n",
       "        border: none;\n",
       "        /* Needs to be in here for Safari polyfill so background images work as expected. */\n",
       "        background-size: auto;\n",
       "    }\n",
       "    progress:not([value]), progress:not([value])::-webkit-progress-bar {\n",
       "        background: repeating-linear-gradient(45deg, #7e7e7e, #7e7e7e 10px, #5c5c5c 10px, #5c5c5c 20px);\n",
       "    }\n",
       "    .progress-bar-interrupted, .progress-bar-interrupted::-webkit-progress-bar {\n",
       "        background: #F44336;\n",
       "    }\n",
       "</style>\n"
      ],
      "text/plain": [
       "<IPython.core.display.HTML object>"
      ]
     },
     "metadata": {},
     "output_type": "display_data"
    },
    {
     "data": {
      "text/html": [
       "\n",
       "    <div>\n",
       "      <progress value='20000' class='' max='20000' style='width:300px; height:20px; vertical-align: middle;'></progress>\n",
       "      100.00% [20000/20000 00:00&lt;00:00]\n",
       "    </div>\n",
       "    "
      ],
      "text/plain": [
       "<IPython.core.display.HTML object>"
      ]
     },
     "metadata": {},
     "output_type": "display_data"
    }
   ],
   "source": [
    "# model\n",
    "with pm.Model() as model:\n",
    "    # Prior\n",
    "    mu = pm.Uniform('mu', lower=0, upper=1)\n",
    "    sigma = pm.HalfNormal('sigma', tau=1 / 0.1**2)\n",
    "    \n",
    "    # Likelihood\n",
    "    observed = pm.Normal('observed', mu=mu, tau=1 / sigma**2, observed=data)\n",
    "    \n",
    "    # Posterior\n",
    "    trace = pm.sample(5000, tune=1000)\n",
    "\n",
    "# Now we can look at the posterior predictive distribution to see how likely 0.9184 is, given the data\n",
    "with model:\n",
    "    posterior_predictive = pm.sample_posterior_predictive(trace)\n",
    "\n",
    "values = posterior_predictive['observed_data']\n"
   ]
  },
  {
   "cell_type": "code",
   "execution_count": 38,
   "metadata": {},
   "outputs": [
    {
     "data": {
      "text/plain": [
       "'Target is 5.96 standard deviations from the mean!'"
      ]
     },
     "execution_count": 38,
     "metadata": {},
     "output_type": "execute_result"
    }
   ],
   "source": [
    "draws = values.observed.to_numpy().flatten()\n",
    "\n",
    "f'Target is {abs(target_value - draws.mean()) / draws.std():.2f} standard deviations from the mean!' "
   ]
  },
  {
   "cell_type": "code",
   "execution_count": null,
   "metadata": {},
   "outputs": [],
   "source": []
  }
 ],
 "metadata": {
  "kernelspec": {
   "display_name": "pymc_env",
   "language": "python",
   "name": "python3"
  },
  "language_info": {
   "codemirror_mode": {
    "name": "ipython",
    "version": 3
   },
   "file_extension": ".py",
   "mimetype": "text/x-python",
   "name": "python",
   "nbconvert_exporter": "python",
   "pygments_lexer": "ipython3",
   "version": "3.11.3"
  },
  "orig_nbformat": 4
 },
 "nbformat": 4,
 "nbformat_minor": 2
}

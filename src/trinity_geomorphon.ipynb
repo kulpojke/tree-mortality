{
 "cells": [
  {
   "cell_type": "markdown",
   "metadata": {},
   "source": [
    "# Geomorphons\n",
    "\n",
    "This notebook computes geomorphons rasters of various scales to the entire Trinity Basin.\n",
    "\n",
    "The Trinity Basin is a huc8 watershed.  It is too large to process in one chunk.  Here we will break it up into huc10 basins and process those, then join them as a vrt later.\n",
    "\n",
    "In keeping consistent with the methods of Kane et al.\\cite{kane2015} we will use $r_{outer}$ of 100 m, 250 m, 500 m, 1000 m, and 2000 m outer radii. Since the authors do not specify the inner radius used, here we will use the rule that $r_{inner} = \\frac{r_{outer}}{2}$.  A flatness threshold of 0 is used.\n"
   ]
  },
  {
   "cell_type": "code",
   "execution_count": 1,
   "metadata": {},
   "outputs": [],
   "source": [
    "import whitebox\n",
    "wbt = whitebox.WhiteboxTools()\n",
    "\n",
    "from pathlib import Path\n",
    "import os\n",
    "import temppathlib\n",
    "\n",
    "import geopandas as gpd\n",
    "from tqdm import tqdm\n",
    "import xarray as xr\n",
    "import rioxarray\n",
    "from rioxarray.exceptions  import NoDataInBounds"
   ]
  },
  {
   "cell_type": "code",
   "execution_count": 2,
   "metadata": {},
   "outputs": [],
   "source": [
    "# path to input files\n",
    "dem_path = Path('/home/michael/tmp/trinity_basin_carrhirzdelta_dem.tif')\n",
    "huc10_path = Path('/media/storage/watershed_boundaries/trinity_river_huc10.geojson')\n",
    "\n",
    "#path for output\n",
    "out_dir = Path.cwd().parent / 'geomorphons'\n",
    "os.makedirs(out_dir, exist_ok=True)"
   ]
  },
  {
   "cell_type": "code",
   "execution_count": 3,
   "metadata": {},
   "outputs": [],
   "source": [
    "def my_callback(value):\n",
    "    #if not '%' in value:\n",
    "    #print(value)\n",
    "    pass\n",
    "\n",
    "\n",
    "def geomorph_all_scales(dem_path, out_dir, basin):\n",
    "    for r in tqdm([100, 250, 500, 1000, 2000]):\n",
    "\n",
    "        output = out_dir / f'geomorph_{basin}_{r}.tif' \n",
    "        \n",
    "        wbt.geomorphons(\n",
    "            dem_path, \n",
    "            output, \n",
    "            search=r, \n",
    "            threshold=0.0, \n",
    "            fdist=0, \n",
    "            skip=round(r / 2), \n",
    "            forms=True, \n",
    "            residuals=False, \n",
    "            callback=my_callback\n",
    "        )"
   ]
  },
  {
   "cell_type": "code",
   "execution_count": 4,
   "metadata": {},
   "outputs": [
    {
     "data": {
      "text/html": [
       "<div>\n",
       "<style scoped>\n",
       "    .dataframe tbody tr th:only-of-type {\n",
       "        vertical-align: middle;\n",
       "    }\n",
       "\n",
       "    .dataframe tbody tr th {\n",
       "        vertical-align: top;\n",
       "    }\n",
       "\n",
       "    .dataframe thead th {\n",
       "        text-align: right;\n",
       "    }\n",
       "</style>\n",
       "<table border=\"1\" class=\"dataframe\">\n",
       "  <thead>\n",
       "    <tr style=\"text-align: right;\">\n",
       "      <th></th>\n",
       "      <th>areasqkm</th>\n",
       "      <th>name</th>\n",
       "      <th>huc10</th>\n",
       "      <th>geometry</th>\n",
       "    </tr>\n",
       "  </thead>\n",
       "  <tbody>\n",
       "    <tr>\n",
       "      <th>0</th>\n",
       "      <td>302.85</td>\n",
       "      <td>Coffee Creek</td>\n",
       "      <td>1801021101</td>\n",
       "      <td>MULTIPOLYGON (((514743.340 4562033.250, 514780...</td>\n",
       "    </tr>\n",
       "    <tr>\n",
       "      <th>1</th>\n",
       "      <td>410.33</td>\n",
       "      <td>Tangle Blue Creek-Trinity River</td>\n",
       "      <td>1801021102</td>\n",
       "      <td>MULTIPOLYGON (((536306.121 4579423.347, 536324...</td>\n",
       "    </tr>\n",
       "    <tr>\n",
       "      <th>2</th>\n",
       "      <td>300.82</td>\n",
       "      <td>East Fork Trinity River</td>\n",
       "      <td>1801021103</td>\n",
       "      <td>MULTIPOLYGON (((537372.506 4564164.410, 537418...</td>\n",
       "    </tr>\n",
       "    <tr>\n",
       "      <th>3</th>\n",
       "      <td>357.19</td>\n",
       "      <td>Stuart Fork</td>\n",
       "      <td>1801021104</td>\n",
       "      <td>MULTIPOLYGON (((501808.643 4540250.013, 501812...</td>\n",
       "    </tr>\n",
       "    <tr>\n",
       "      <th>4</th>\n",
       "      <td>489.90</td>\n",
       "      <td>Swift Creek-Trinity River</td>\n",
       "      <td>1801021105</td>\n",
       "      <td>MULTIPOLYGON (((527863.541 4548319.278, 527902...</td>\n",
       "    </tr>\n",
       "  </tbody>\n",
       "</table>\n",
       "</div>"
      ],
      "text/plain": [
       "   areasqkm                             name       huc10  \\\n",
       "0    302.85                     Coffee Creek  1801021101   \n",
       "1    410.33  Tangle Blue Creek-Trinity River  1801021102   \n",
       "2    300.82          East Fork Trinity River  1801021103   \n",
       "3    357.19                      Stuart Fork  1801021104   \n",
       "4    489.90        Swift Creek-Trinity River  1801021105   \n",
       "\n",
       "                                            geometry  \n",
       "0  MULTIPOLYGON (((514743.340 4562033.250, 514780...  \n",
       "1  MULTIPOLYGON (((536306.121 4579423.347, 536324...  \n",
       "2  MULTIPOLYGON (((537372.506 4564164.410, 537418...  \n",
       "3  MULTIPOLYGON (((501808.643 4540250.013, 501812...  \n",
       "4  MULTIPOLYGON (((527863.541 4548319.278, 527902...  "
      ]
     },
     "execution_count": 4,
     "metadata": {},
     "output_type": "execute_result"
    }
   ],
   "source": [
    "# read huc10s to df\n",
    "huc10s = gpd.read_file(huc10_path)[['areasqkm', 'name', 'huc10', 'geometry']]\n",
    "huc10s.head()"
   ]
  },
  {
   "cell_type": "code",
   "execution_count": 5,
   "metadata": {},
   "outputs": [
    {
     "name": "stdout",
     "output_type": "stream",
     "text": [
      "on row 1 of 12\n"
     ]
    },
    {
     "name": "stderr",
     "output_type": "stream",
     "text": [
      "100%|██████████| 5/5 [7:48:53<00:00, 5626.64s/it]  \n"
     ]
    },
    {
     "name": "stdout",
     "output_type": "stream",
     "text": [
      "on row 2 of 12\n"
     ]
    }
   ],
   "source": [
    "with temppathlib.TemporaryDirectory() as tmp_dir:\n",
    "    for i, row in huc10s.iterrows():\n",
    "        print(f'on row {i + 1} of {len(huc10s)}')   \n",
    "        # get bounds of basin\n",
    "        minx, miny, maxx, maxy = row.geometry.bounds\n",
    "        # read DEM clipped to bounds\n",
    "        try:\n",
    "            dem = rioxarray.open_rasterio(dem_path).rio.clip_box(\n",
    "                minx=minx,\n",
    "                miny=miny,\n",
    "                maxx=maxx,\n",
    "                maxy=maxy\n",
    "            )\n",
    "        except NoDataInBounds:\n",
    "            print(f'{row.huc10} ({row.name}) failed with NoDataInBounds')\n",
    "            continue\n",
    "            \n",
    "        # clip to 100m buffered huc10 basin\n",
    "        dem = dem.rio.clip([row.geometry.buffer(100)])\n",
    "        # write a tmp dem\n",
    "        dst = tmp_dir.path / f'{row.huc10}.tif'\n",
    "        dem.rio.to_raster(dst)\n",
    "        # delete dem to free memory\n",
    "        del dem\n",
    "        # make geomorphons of all scales\n",
    "        geomorph_all_scales(dst, out_dir, row.huc10)\n",
    "    "
   ]
  },
  {
   "cell_type": "markdown",
   "metadata": {},
   "source": [
    "This crashes, probably a vscode jupyter issue, use `src/trinity_geomorphon.py` instead."
   ]
  },
  {
   "cell_type": "code",
   "execution_count": 11,
   "metadata": {},
   "outputs": [
    {
     "data": {
      "text/plain": [
       "1699467882.8046825"
      ]
     },
     "execution_count": 11,
     "metadata": {},
     "output_type": "execute_result"
    }
   ],
   "source": [
    "from time import time\n",
    "time()"
   ]
  },
  {
   "cell_type": "code",
   "execution_count": null,
   "metadata": {},
   "outputs": [],
   "source": []
  }
 ],
 "metadata": {
  "kernelspec": {
   "display_name": "pyro",
   "language": "python",
   "name": "python3"
  },
  "language_info": {
   "codemirror_mode": {
    "name": "ipython",
    "version": 3
   },
   "file_extension": ".py",
   "mimetype": "text/x-python",
   "name": "python",
   "nbconvert_exporter": "python",
   "pygments_lexer": "ipython3",
   "version": "3.10.12"
  }
 },
 "nbformat": 4,
 "nbformat_minor": 2
}

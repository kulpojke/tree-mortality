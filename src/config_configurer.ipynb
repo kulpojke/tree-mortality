{
 "cells": [
  {
   "cell_type": "code",
   "execution_count": 1,
   "metadata": {},
   "outputs": [],
   "source": [
    "import json\n",
    "import os\n",
    "from pathlib import Path"
   ]
  },
  {
   "cell_type": "code",
   "execution_count": 2,
   "metadata": {},
   "outputs": [],
   "source": [
    "# enter path/to/labeled_polygon.gpkg: path/to/NAIP.tif pairs into dict.\n",
    "path_dict = {\n",
    "    '/home/michael/TreeMortality/data/huc180102110101and2/10TEL0509245547_2022_labels.gpkg':\n",
    "        '/home/michael/TreeMortality/NAIP_train/m_4112249_se_10_060_20220718.tif',\n",
    "    '/home/michael/TreeMortality/data/huc180102111107/10TDL0458245240_2022_labels.gpkg':\n",
    "        '/home/michael/TreeMortality/data/huc180102111107/NAIP/2022/2022.vrt',\n",
    "    '/home/michael/TreeMortality/data/huc180201520201/10TEK0503244655_2022_labels.gpkg':\n",
    "        '/home/michael/TreeMortality/data/huc180201520201/NAIP/2022/2022.vrt',\n",
    "    '/home/michael/TreeMortality/data/huc180102111105/10TDL0464245187_2022_labels.gpkg':\n",
    "        '/home/michael/TreeMortality/data/huc180102111105/NAIP/2022/2022.vrt',\n",
    "    '/home/michael/TreeMortality/data/huc180102111102/10TDL0480045075_2020_labels.gpkg':\n",
    "        '/home/michael/TreeMortality/data/huc180102111102/NAIP/2020/2020.vrt',\n",
    "    '/home/michael/TreeMortality/data/huc180102111102/10TDL0480045075_2022_labels.gpkg':\n",
    "        '/home/michael/TreeMortality/data/huc180102111102/NAIP/2022/2022.vrt',\n",
    "    '/home/michael/TreeMortality/data/huc180102111102/10TDL0480045075_2018_labels.gpkg':\n",
    "        '/home/michael/TreeMortality/data/huc180102111102/NAIP/2018/2018.vrt',\n",
    "    '/home/michael/TreeMortality/data/huc180102110602/10TEK0500244992_2022_labels.gpkg':\n",
    "        '/home/michael/TreeMortality/data/huc180102110602/NAIP/2022/2022.vrt',\n",
    "    '/home/michael/TreeMortality/data/huc180102110901and2and3/10TDL0488245360_2022_labels.gpkg':\n",
    "        '/home/michael/TreeMortality/data/huc180102110901and2and3/NAIP/2022/2022.vrt'\n",
    "}\n",
    "\n",
    "path_to_config_file = Path(os.getcwd()) / 'model_config.json'"
   ]
  },
  {
   "cell_type": "code",
   "execution_count": 3,
   "metadata": {},
   "outputs": [],
   "source": [
    "with open(path_to_config_file, 'w') as dst:\n",
    "    json.dump(path_dict, dst, indent=6)"
   ]
  },
  {
   "cell_type": "code",
   "execution_count": null,
   "metadata": {},
   "outputs": [],
   "source": []
  },
  {
   "cell_type": "code",
   "execution_count": null,
   "metadata": {},
   "outputs": [],
   "source": []
  }
 ],
 "metadata": {
  "kernelspec": {
   "display_name": ".venv",
   "language": "python",
   "name": "python3"
  },
  "language_info": {
   "codemirror_mode": {
    "name": "ipython",
    "version": 3
   },
   "file_extension": ".py",
   "mimetype": "text/x-python",
   "name": "python",
   "nbconvert_exporter": "python",
   "pygments_lexer": "ipython3",
   "version": "3.10.6"
  },
  "orig_nbformat": 4
 },
 "nbformat": 4,
 "nbformat_minor": 2
}
